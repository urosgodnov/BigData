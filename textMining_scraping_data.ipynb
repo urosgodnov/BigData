{
  "cells": [
    {
      "cell_type": "markdown",
      "metadata": {
        "id": "view-in-github",
        "colab_type": "text"
      },
      "source": [
        "<a href=\"https://colab.research.google.com/github/urosgodnov/BigData/blob/master/textMining_scraping_data.ipynb\" target=\"_parent\"><img src=\"https://colab.research.google.com/assets/colab-badge.svg\" alt=\"Open In Colab\"/></a>"
      ]
    },
    {
      "cell_type": "markdown",
      "source": [
        "# Permanently install libraries"
      ],
      "metadata": {
        "id": "D6XABwhDvHvQ"
      },
      "id": "D6XABwhDvHvQ"
    },
    {
      "cell_type": "markdown",
      "source": [
        "## Initializing gdrive"
      ],
      "metadata": {
        "id": "4eai3eHGvQq9"
      },
      "id": "4eai3eHGvQq9"
    },
    {
      "cell_type": "code",
      "source": [
        "# permanently install packageg in google colab\n",
        "from google.colab import drive\n",
        "drive.mount(\"/content/drive\")"
      ],
      "metadata": {
        "colab": {
          "base_uri": "https://localhost:8080/"
        },
        "id": "FDnUAoJ1syHI",
        "outputId": "92269696-2fe0-4eef-f433-d133d0324925"
      },
      "id": "FDnUAoJ1syHI",
      "execution_count": 1,
      "outputs": [
        {
          "output_type": "stream",
          "name": "stdout",
          "text": [
            "Drive already mounted at /content/drive; to attempt to forcibly remount, call drive.mount(\"/content/drive\", force_remount=True).\n"
          ]
        }
      ]
    },
    {
      "cell_type": "markdown",
      "source": [
        "## Creating links"
      ],
      "metadata": {
        "id": "Wo1c011Yvbdw"
      },
      "id": "Wo1c011Yvbdw"
    },
    {
      "cell_type": "code",
      "source": [
        "import os\n",
        "nb_path = '/content/drive/MyDrive/Google_Colab_modules'\n",
        "\n",
        "if not os.path.exists(nb_path):\n",
        "  os.symlink('/content/drive/MyDrive/Google_Colab_modules', nb_path)  # Create the symlink only if it doesn't exist\n",
        "else:\n",
        "  print(f\"Path '{nb_path}' already exists. Skipping symlink creation.\")\n"
      ],
      "metadata": {
        "colab": {
          "base_uri": "https://localhost:8080/"
        },
        "id": "CbhIct5IuPfZ",
        "outputId": "83af5d29-cc76-43ff-8537-6a9b1aeae520"
      },
      "id": "CbhIct5IuPfZ",
      "execution_count": 5,
      "outputs": [
        {
          "output_type": "stream",
          "name": "stdout",
          "text": [
            "Path '/content/drive/MyDrive/Google_Colab_modules' already exists. Skipping symlink creation.\n"
          ]
        }
      ]
    },
    {
      "cell_type": "markdown",
      "source": [
        "## Installing to destination folder in gdrive"
      ],
      "metadata": {
        "id": "r7mo4dCFvfBZ"
      },
      "id": "r7mo4dCFvfBZ"
    },
    {
      "cell_type": "code",
      "source": [
        "#install the module in the\n",
        "!pip install --target=$nb_path selenium"
      ],
      "metadata": {
        "id": "ULxTpXSVvASS"
      },
      "id": "ULxTpXSVvASS",
      "execution_count": null,
      "outputs": []
    },
    {
      "cell_type": "code",
      "source": [
        "!pip install --target=$nb_path webdriver_manager"
      ],
      "metadata": {
        "id": "3yipFmyoy9Bh"
      },
      "id": "3yipFmyoy9Bh",
      "execution_count": null,
      "outputs": []
    },
    {
      "cell_type": "markdown",
      "source": [
        "## Connecting the path"
      ],
      "metadata": {
        "id": "6AJokRDsvrNZ"
      },
      "id": "6AJokRDsvrNZ"
    },
    {
      "cell_type": "markdown",
      "source": [
        "In the future, while all modules will be installed, we will only use this command."
      ],
      "metadata": {
        "id": "LzuIZs24vwxo"
      },
      "id": "LzuIZs24vwxo"
    },
    {
      "cell_type": "code",
      "source": [
        "import sys\n",
        "\n",
        "sys.path.append(\"/content/drive/MyDrive/Google_Colab_modules\")"
      ],
      "metadata": {
        "id": "YY7iYvEYtTE6"
      },
      "id": "YY7iYvEYtTE6",
      "execution_count": 25,
      "outputs": []
    },
    {
      "cell_type": "markdown",
      "source": [
        "# Webscraping"
      ],
      "metadata": {
        "id": "kWcmVdmHv6C9"
      },
      "id": "kWcmVdmHv6C9"
    },
    {
      "cell_type": "code",
      "execution_count": 194,
      "id": "09a6b4f9-7b96-431f-88c3-44b8371b79d0",
      "metadata": {
        "tags": [],
        "id": "09a6b4f9-7b96-431f-88c3-44b8371b79d0"
      },
      "outputs": [],
      "source": [
        "from selenium import webdriver\n",
        "from selenium.webdriver.chrome.options import Options\n",
        "from webdriver_manager.chrome import ChromeDriverManager\n",
        "from selenium.webdriver.common.by import By\n",
        "from selenium.webdriver.support.wait import WebDriverWait\n",
        "from selenium.webdriver.chrome.service import Service\n",
        "from selenium.webdriver.support import expected_conditions as EC\n",
        "from selenium.common.exceptions import (\n",
        "    NoSuchElementException,\n",
        "    ElementClickInterceptedException,\n",
        "    TimeoutException\n",
        ")\n",
        "from datetime import datetime\n",
        "\n"
      ]
    },
    {
      "cell_type": "code",
      "source": [
        "import pandas as pd\n",
        "import time"
      ],
      "metadata": {
        "id": "WJ1u2hOTKTG1"
      },
      "id": "WJ1u2hOTKTG1",
      "execution_count": 195,
      "outputs": []
    },
    {
      "cell_type": "code",
      "execution_count": 196,
      "id": "d6e95cc9-4ecb-48af-9021-4ec8aae28cef",
      "metadata": {
        "tags": [],
        "id": "d6e95cc9-4ecb-48af-9021-4ec8aae28cef"
      },
      "outputs": [],
      "source": [
        "options = webdriver.ChromeOptions()\n",
        "options.add_argument(\"--verbose\")\n",
        "options.add_argument('--no-sandbox')\n",
        "options.add_argument('--headless')\n",
        "options.add_argument('--disable-gpu')\n",
        "options.add_argument(\"--window-size=1920, 1200\")\n",
        "options.add_argument('--disable-dev-shm-usage')\n",
        "options.add_argument('--user-agent=Mozilla/5.0 (Windows NT 10.0; Win64; x64) AppleWebKit/537.36 (KHTML, like \\\n",
        "Gecko) Chrome/90.0.4430.212 Safari/537.36')"
      ]
    },
    {
      "cell_type": "code",
      "source": [
        "driver = webdriver.Chrome(options=options)"
      ],
      "metadata": {
        "id": "zfGXabQEKxDZ"
      },
      "id": "zfGXabQEKxDZ",
      "execution_count": 197,
      "outputs": []
    },
    {
      "cell_type": "code",
      "source": [
        "l=\"https://www.imdb.com/title/tt23558280/reviews/?ref_=tt_urv_sm\"\n",
        "driver.get(l)"
      ],
      "metadata": {
        "id": "B2cD1nDRwdPR"
      },
      "id": "B2cD1nDRwdPR",
      "execution_count": 198,
      "outputs": []
    },
    {
      "cell_type": "markdown",
      "source": [
        "**Overlay page**"
      ],
      "metadata": {
        "id": "pCPh2Is9T8L9"
      },
      "id": "pCPh2Is9T8L9"
    },
    {
      "cell_type": "code",
      "execution_count": 200,
      "id": "82c31512-4601-4965-8697-9138136dc9da",
      "metadata": {
        "tags": [],
        "id": "82c31512-4601-4965-8697-9138136dc9da"
      },
      "outputs": [],
      "source": [
        "wait = WebDriverWait(driver, timeout=5)\n"
      ]
    },
    {
      "cell_type": "code",
      "execution_count": null,
      "id": "ad5c3ccb-618f-4cd7-b09d-3798a0760d8f",
      "metadata": {
        "tags": [],
        "id": "ad5c3ccb-618f-4cd7-b09d-3798a0760d8f"
      },
      "outputs": [],
      "source": [
        "while True:\n",
        "    try:\n",
        "\n",
        "        button = wait.until(EC.element_to_be_clickable((By.XPATH, \"//button[contains(@class, 'ipc-see-more__button') and .//span[text()='All']]\")))\n",
        "        print('Found the \"All\" button.')\n",
        "\n",
        "        # Scroll the button into view\n",
        "        driver.execute_script(\"arguments[0].scrollIntoView({block: 'center'});\", button)\n",
        "        print('Scrolled to the \"All\" button.')\n",
        "\n",
        "        # Click the button\n",
        "        button.click()\n",
        "        print('Button clicked successfully!')\n",
        "\n",
        "    except TimeoutException as e:\n",
        "        print('Timeout waiting for the button to be clickable:', e)\n",
        "        break\n",
        "\n",
        "    except ElementClickInterceptedException as e:\n",
        "        print('Element click intercepted:', e)\n",
        "        driver.execute_script(\"arguments[0].click();\", button)\n",
        "        print('Button clicked using JavaScript.')\n",
        "\n",
        "    except NoSuchElementException:\n",
        "        print('Button not found on the page.')\n",
        "        break\n",
        "\n",
        "    except Exception as e:\n",
        "        print('An unexpected error occurred:', e)\n",
        "        break\n"
      ]
    },
    {
      "cell_type": "code",
      "execution_count": 186,
      "id": "c2dcd35b-c543-4f78-936a-640ba698c48d",
      "metadata": {
        "id": "c2dcd35b-c543-4f78-936a-640ba698c48d"
      },
      "outputs": [],
      "source": [
        "from bs4 import BeautifulSoup"
      ]
    },
    {
      "cell_type": "code",
      "execution_count": 187,
      "id": "25a096a3-d04e-4400-8292-8ea7f2d8a01d",
      "metadata": {
        "tags": [],
        "id": "25a096a3-d04e-4400-8292-8ea7f2d8a01d"
      },
      "outputs": [],
      "source": [
        "df = pd.DataFrame(columns=[\"Author\",\"Title\",\"Rating\",\"Text\",\"Date\"])\n",
        "\n"
      ]
    },
    {
      "cell_type": "code",
      "execution_count": 188,
      "id": "58ce9787-9d20-4c1e-9c13-21daecb313ef",
      "metadata": {
        "tags": [],
        "id": "58ce9787-9d20-4c1e-9c13-21daecb313ef"
      },
      "outputs": [],
      "source": [
        "content = driver.page_source\n",
        "soup = BeautifulSoup(content)\n",
        "result=[]"
      ]
    },
    {
      "cell_type": "code",
      "execution_count": 189,
      "id": "b81fb45a-4a21-4fcf-96b1-05c5578405e8",
      "metadata": {
        "tags": [],
        "id": "b81fb45a-4a21-4fcf-96b1-05c5578405e8"
      },
      "outputs": [],
      "source": [
        "def GetAReview(review):\n",
        "  author = rev.findAll('a', attrs={'class':'ipc-link ipc-link--base'})[0].text\n",
        "  title = rev.find('h3', attrs={'class':'ipc-title__text'}).text.strip()\n",
        "  rating =rev.findAll('span', attrs={'class':'ipc-rating-star--rating'})[0].text.replace(\"\\n\",\"\").strip()\n",
        "  review = rev.findAll('div', attrs={'class':'ipc-html-content-inner-div'})[0].text\n",
        "  date = rev.findAll('li', attrs={'class':'ipc-inline-list__item review-date'})[0].text\n",
        "  date=datetime.strptime(date, '%b %d, %Y').strftime('%Y-%m-%d')\n",
        "\n",
        "  return pd.DataFrame({\"Author\":author, \"Title\":title, \"Rating\":rating, \"Text\":review, \"Date\":date},index=[0])\n"
      ]
    },
    {
      "cell_type": "code",
      "execution_count": 190,
      "id": "bffaf76b-7795-4a68-880f-d460e00a734f",
      "metadata": {
        "tags": [],
        "id": "bffaf76b-7795-4a68-880f-d460e00a734f"
      },
      "outputs": [],
      "source": [
        "for rev in soup.findAll('article'):\n",
        "  try:\n",
        "    result.append(GetAReview(rev))\n",
        "  except:\n",
        "    continue"
      ]
    },
    {
      "cell_type": "code",
      "execution_count": 191,
      "id": "fb8d7f3c-817a-44d4-b88c-505292710070",
      "metadata": {
        "tags": [],
        "id": "fb8d7f3c-817a-44d4-b88c-505292710070"
      },
      "outputs": [],
      "source": [
        "df=pd.concat(result, axis=0, ignore_index=True)"
      ]
    },
    {
      "cell_type": "code",
      "execution_count": 192,
      "id": "005e2d02-8a65-4f54-9581-03b95d7e8ad8",
      "metadata": {
        "tags": [],
        "id": "005e2d02-8a65-4f54-9581-03b95d7e8ad8",
        "outputId": "82aa25aa-65db-4b8c-eb76-083a34dec0f5",
        "colab": {
          "base_uri": "https://localhost:8080/",
          "height": 293
        }
      },
      "outputs": [
        {
          "output_type": "execute_result",
          "data": {
            "text/plain": [
              "                Author                                              Title  \\\n",
              "0  hunterwinters-30598             Interesting concept, so many questions   \n",
              "1            FeastMode  Decent if it was a streaming movie, underwhelm...   \n",
              "2              Name657                                          Elevation   \n",
              "3              jmc4769  A cheaper knock off of The Quiet Place but sti...   \n",
              "4        stofuia-67824                         Good Movie worth the watch   \n",
              "\n",
              "  Rating                                               Text        Date  \n",
              "0      7  It was an interesting concept and an entertain...  2024-11-11  \n",
              "1      5  I watched Elevation early as part of Marcus's ...  2024-11-07  \n",
              "2      5  How do these low budget movie companies no one...  2024-11-10  \n",
              "3      6  This movie is much better than the bad reviews...  2024-11-22  \n",
              "4      7  Started as normal end of world storyline. Huma...  2024-11-08  "
            ],
            "text/html": [
              "\n",
              "  <div id=\"df-12527029-026c-4e5e-b3aa-0a3c5019c19a\" class=\"colab-df-container\">\n",
              "    <div>\n",
              "<style scoped>\n",
              "    .dataframe tbody tr th:only-of-type {\n",
              "        vertical-align: middle;\n",
              "    }\n",
              "\n",
              "    .dataframe tbody tr th {\n",
              "        vertical-align: top;\n",
              "    }\n",
              "\n",
              "    .dataframe thead th {\n",
              "        text-align: right;\n",
              "    }\n",
              "</style>\n",
              "<table border=\"1\" class=\"dataframe\">\n",
              "  <thead>\n",
              "    <tr style=\"text-align: right;\">\n",
              "      <th></th>\n",
              "      <th>Author</th>\n",
              "      <th>Title</th>\n",
              "      <th>Rating</th>\n",
              "      <th>Text</th>\n",
              "      <th>Date</th>\n",
              "    </tr>\n",
              "  </thead>\n",
              "  <tbody>\n",
              "    <tr>\n",
              "      <th>0</th>\n",
              "      <td>hunterwinters-30598</td>\n",
              "      <td>Interesting concept, so many questions</td>\n",
              "      <td>7</td>\n",
              "      <td>It was an interesting concept and an entertain...</td>\n",
              "      <td>2024-11-11</td>\n",
              "    </tr>\n",
              "    <tr>\n",
              "      <th>1</th>\n",
              "      <td>FeastMode</td>\n",
              "      <td>Decent if it was a streaming movie, underwhelm...</td>\n",
              "      <td>5</td>\n",
              "      <td>I watched Elevation early as part of Marcus's ...</td>\n",
              "      <td>2024-11-07</td>\n",
              "    </tr>\n",
              "    <tr>\n",
              "      <th>2</th>\n",
              "      <td>Name657</td>\n",
              "      <td>Elevation</td>\n",
              "      <td>5</td>\n",
              "      <td>How do these low budget movie companies no one...</td>\n",
              "      <td>2024-11-10</td>\n",
              "    </tr>\n",
              "    <tr>\n",
              "      <th>3</th>\n",
              "      <td>jmc4769</td>\n",
              "      <td>A cheaper knock off of The Quiet Place but sti...</td>\n",
              "      <td>6</td>\n",
              "      <td>This movie is much better than the bad reviews...</td>\n",
              "      <td>2024-11-22</td>\n",
              "    </tr>\n",
              "    <tr>\n",
              "      <th>4</th>\n",
              "      <td>stofuia-67824</td>\n",
              "      <td>Good Movie worth the watch</td>\n",
              "      <td>7</td>\n",
              "      <td>Started as normal end of world storyline. Huma...</td>\n",
              "      <td>2024-11-08</td>\n",
              "    </tr>\n",
              "  </tbody>\n",
              "</table>\n",
              "</div>\n",
              "    <div class=\"colab-df-buttons\">\n",
              "\n",
              "  <div class=\"colab-df-container\">\n",
              "    <button class=\"colab-df-convert\" onclick=\"convertToInteractive('df-12527029-026c-4e5e-b3aa-0a3c5019c19a')\"\n",
              "            title=\"Convert this dataframe to an interactive table.\"\n",
              "            style=\"display:none;\">\n",
              "\n",
              "  <svg xmlns=\"http://www.w3.org/2000/svg\" height=\"24px\" viewBox=\"0 -960 960 960\">\n",
              "    <path d=\"M120-120v-720h720v720H120Zm60-500h600v-160H180v160Zm220 220h160v-160H400v160Zm0 220h160v-160H400v160ZM180-400h160v-160H180v160Zm440 0h160v-160H620v160ZM180-180h160v-160H180v160Zm440 0h160v-160H620v160Z\"/>\n",
              "  </svg>\n",
              "    </button>\n",
              "\n",
              "  <style>\n",
              "    .colab-df-container {\n",
              "      display:flex;\n",
              "      gap: 12px;\n",
              "    }\n",
              "\n",
              "    .colab-df-convert {\n",
              "      background-color: #E8F0FE;\n",
              "      border: none;\n",
              "      border-radius: 50%;\n",
              "      cursor: pointer;\n",
              "      display: none;\n",
              "      fill: #1967D2;\n",
              "      height: 32px;\n",
              "      padding: 0 0 0 0;\n",
              "      width: 32px;\n",
              "    }\n",
              "\n",
              "    .colab-df-convert:hover {\n",
              "      background-color: #E2EBFA;\n",
              "      box-shadow: 0px 1px 2px rgba(60, 64, 67, 0.3), 0px 1px 3px 1px rgba(60, 64, 67, 0.15);\n",
              "      fill: #174EA6;\n",
              "    }\n",
              "\n",
              "    .colab-df-buttons div {\n",
              "      margin-bottom: 4px;\n",
              "    }\n",
              "\n",
              "    [theme=dark] .colab-df-convert {\n",
              "      background-color: #3B4455;\n",
              "      fill: #D2E3FC;\n",
              "    }\n",
              "\n",
              "    [theme=dark] .colab-df-convert:hover {\n",
              "      background-color: #434B5C;\n",
              "      box-shadow: 0px 1px 3px 1px rgba(0, 0, 0, 0.15);\n",
              "      filter: drop-shadow(0px 1px 2px rgba(0, 0, 0, 0.3));\n",
              "      fill: #FFFFFF;\n",
              "    }\n",
              "  </style>\n",
              "\n",
              "    <script>\n",
              "      const buttonEl =\n",
              "        document.querySelector('#df-12527029-026c-4e5e-b3aa-0a3c5019c19a button.colab-df-convert');\n",
              "      buttonEl.style.display =\n",
              "        google.colab.kernel.accessAllowed ? 'block' : 'none';\n",
              "\n",
              "      async function convertToInteractive(key) {\n",
              "        const element = document.querySelector('#df-12527029-026c-4e5e-b3aa-0a3c5019c19a');\n",
              "        const dataTable =\n",
              "          await google.colab.kernel.invokeFunction('convertToInteractive',\n",
              "                                                    [key], {});\n",
              "        if (!dataTable) return;\n",
              "\n",
              "        const docLinkHtml = 'Like what you see? Visit the ' +\n",
              "          '<a target=\"_blank\" href=https://colab.research.google.com/notebooks/data_table.ipynb>data table notebook</a>'\n",
              "          + ' to learn more about interactive tables.';\n",
              "        element.innerHTML = '';\n",
              "        dataTable['output_type'] = 'display_data';\n",
              "        await google.colab.output.renderOutput(dataTable, element);\n",
              "        const docLink = document.createElement('div');\n",
              "        docLink.innerHTML = docLinkHtml;\n",
              "        element.appendChild(docLink);\n",
              "      }\n",
              "    </script>\n",
              "  </div>\n",
              "\n",
              "\n",
              "<div id=\"df-ff79c563-b0bd-4709-98e0-6c69e4d20b9c\">\n",
              "  <button class=\"colab-df-quickchart\" onclick=\"quickchart('df-ff79c563-b0bd-4709-98e0-6c69e4d20b9c')\"\n",
              "            title=\"Suggest charts\"\n",
              "            style=\"display:none;\">\n",
              "\n",
              "<svg xmlns=\"http://www.w3.org/2000/svg\" height=\"24px\"viewBox=\"0 0 24 24\"\n",
              "     width=\"24px\">\n",
              "    <g>\n",
              "        <path d=\"M19 3H5c-1.1 0-2 .9-2 2v14c0 1.1.9 2 2 2h14c1.1 0 2-.9 2-2V5c0-1.1-.9-2-2-2zM9 17H7v-7h2v7zm4 0h-2V7h2v10zm4 0h-2v-4h2v4z\"/>\n",
              "    </g>\n",
              "</svg>\n",
              "  </button>\n",
              "\n",
              "<style>\n",
              "  .colab-df-quickchart {\n",
              "      --bg-color: #E8F0FE;\n",
              "      --fill-color: #1967D2;\n",
              "      --hover-bg-color: #E2EBFA;\n",
              "      --hover-fill-color: #174EA6;\n",
              "      --disabled-fill-color: #AAA;\n",
              "      --disabled-bg-color: #DDD;\n",
              "  }\n",
              "\n",
              "  [theme=dark] .colab-df-quickchart {\n",
              "      --bg-color: #3B4455;\n",
              "      --fill-color: #D2E3FC;\n",
              "      --hover-bg-color: #434B5C;\n",
              "      --hover-fill-color: #FFFFFF;\n",
              "      --disabled-bg-color: #3B4455;\n",
              "      --disabled-fill-color: #666;\n",
              "  }\n",
              "\n",
              "  .colab-df-quickchart {\n",
              "    background-color: var(--bg-color);\n",
              "    border: none;\n",
              "    border-radius: 50%;\n",
              "    cursor: pointer;\n",
              "    display: none;\n",
              "    fill: var(--fill-color);\n",
              "    height: 32px;\n",
              "    padding: 0;\n",
              "    width: 32px;\n",
              "  }\n",
              "\n",
              "  .colab-df-quickchart:hover {\n",
              "    background-color: var(--hover-bg-color);\n",
              "    box-shadow: 0 1px 2px rgba(60, 64, 67, 0.3), 0 1px 3px 1px rgba(60, 64, 67, 0.15);\n",
              "    fill: var(--button-hover-fill-color);\n",
              "  }\n",
              "\n",
              "  .colab-df-quickchart-complete:disabled,\n",
              "  .colab-df-quickchart-complete:disabled:hover {\n",
              "    background-color: var(--disabled-bg-color);\n",
              "    fill: var(--disabled-fill-color);\n",
              "    box-shadow: none;\n",
              "  }\n",
              "\n",
              "  .colab-df-spinner {\n",
              "    border: 2px solid var(--fill-color);\n",
              "    border-color: transparent;\n",
              "    border-bottom-color: var(--fill-color);\n",
              "    animation:\n",
              "      spin 1s steps(1) infinite;\n",
              "  }\n",
              "\n",
              "  @keyframes spin {\n",
              "    0% {\n",
              "      border-color: transparent;\n",
              "      border-bottom-color: var(--fill-color);\n",
              "      border-left-color: var(--fill-color);\n",
              "    }\n",
              "    20% {\n",
              "      border-color: transparent;\n",
              "      border-left-color: var(--fill-color);\n",
              "      border-top-color: var(--fill-color);\n",
              "    }\n",
              "    30% {\n",
              "      border-color: transparent;\n",
              "      border-left-color: var(--fill-color);\n",
              "      border-top-color: var(--fill-color);\n",
              "      border-right-color: var(--fill-color);\n",
              "    }\n",
              "    40% {\n",
              "      border-color: transparent;\n",
              "      border-right-color: var(--fill-color);\n",
              "      border-top-color: var(--fill-color);\n",
              "    }\n",
              "    60% {\n",
              "      border-color: transparent;\n",
              "      border-right-color: var(--fill-color);\n",
              "    }\n",
              "    80% {\n",
              "      border-color: transparent;\n",
              "      border-right-color: var(--fill-color);\n",
              "      border-bottom-color: var(--fill-color);\n",
              "    }\n",
              "    90% {\n",
              "      border-color: transparent;\n",
              "      border-bottom-color: var(--fill-color);\n",
              "    }\n",
              "  }\n",
              "</style>\n",
              "\n",
              "  <script>\n",
              "    async function quickchart(key) {\n",
              "      const quickchartButtonEl =\n",
              "        document.querySelector('#' + key + ' button');\n",
              "      quickchartButtonEl.disabled = true;  // To prevent multiple clicks.\n",
              "      quickchartButtonEl.classList.add('colab-df-spinner');\n",
              "      try {\n",
              "        const charts = await google.colab.kernel.invokeFunction(\n",
              "            'suggestCharts', [key], {});\n",
              "      } catch (error) {\n",
              "        console.error('Error during call to suggestCharts:', error);\n",
              "      }\n",
              "      quickchartButtonEl.classList.remove('colab-df-spinner');\n",
              "      quickchartButtonEl.classList.add('colab-df-quickchart-complete');\n",
              "    }\n",
              "    (() => {\n",
              "      let quickchartButtonEl =\n",
              "        document.querySelector('#df-ff79c563-b0bd-4709-98e0-6c69e4d20b9c button');\n",
              "      quickchartButtonEl.style.display =\n",
              "        google.colab.kernel.accessAllowed ? 'block' : 'none';\n",
              "    })();\n",
              "  </script>\n",
              "</div>\n",
              "\n",
              "    </div>\n",
              "  </div>\n"
            ],
            "application/vnd.google.colaboratory.intrinsic+json": {
              "type": "dataframe",
              "variable_name": "df",
              "summary": "{\n  \"name\": \"df\",\n  \"rows\": 41,\n  \"fields\": [\n    {\n      \"column\": \"Author\",\n      \"properties\": {\n        \"dtype\": \"string\",\n        \"num_unique_values\": 41,\n        \"samples\": [\n          \"victaijiacademy\",\n          \"gekejo1\",\n          \"jennnharrison\"\n        ],\n        \"semantic_type\": \"\",\n        \"description\": \"\"\n      }\n    },\n    {\n      \"column\": \"Title\",\n      \"properties\": {\n        \"dtype\": \"string\",\n        \"num_unique_values\": 41,\n        \"samples\": [\n          \"There's dumb movies, and there's Elevation\",\n          \"My wife and I actually liked it a lot\",\n          \"Better than some reviews might suggest ..\"\n        ],\n        \"semantic_type\": \"\",\n        \"description\": \"\"\n      }\n    },\n    {\n      \"column\": \"Rating\",\n      \"properties\": {\n        \"dtype\": \"category\",\n        \"num_unique_values\": 9,\n        \"samples\": [\n          \"1\",\n          \"5\",\n          \"2\"\n        ],\n        \"semantic_type\": \"\",\n        \"description\": \"\"\n      }\n    },\n    {\n      \"column\": \"Text\",\n      \"properties\": {\n        \"dtype\": \"string\",\n        \"num_unique_values\": 41,\n        \"samples\": [\n          \"I usually don't mind movies where you have to turn your brain off. A lot of them have plot holes and often people making terrible choices.But Elevation takes this to another level.My wife and I both felt insulted at expecting to believe almost anything about this movie.It was so bad we turned it off well before the mid-way mark.So that is all I have to say about this movie, but now the Posting Bot tells me I have to write 160 characters more.**Anything below the above line is now filler.For the record, having such a large minimum number of characters to produce a suitable comment is ridiculous.\",\n          \"If you can get past one glaring issue with respect to batteries (I won't ruin it for you), then you will enjoy what I would call a pretty well done movie. We never got bored, the acting was good, and I hope a second movie is made- that's how much we liked it. My wife and I are actually surprised so many rated it so low. I think if you like end of the world type of movies and will let your imagination run a litte, you will really enjoy this movie. We also think it's worth spending money on. So, just go see it if you are into sci-fi because it will not let you down in our opinion. I'm running out of words.\",\n          \"I enjoyed this film overall .. considering I had read the review which appears as the 'top' review IMDB page, which isn't exactly a negative review, but then it's neither a glowing one either.I found the acting solid, the small cast wasn't an issue, given that the film has a fairly short runtime, it allowed some development of character and backstory.Much of this is done in short excerpts, some basic interactions between characters, what they say to one another and so on.The main traction the film gives is with the small group heading out into to the world and the dangers it now holds .. and this is done well, the editing, the scene by scene rolling out of events had a strong consistency to them.As I say, it's a fairly short film, or at least felt it when I watched it, and I had no problem with no knowing an awful lot about the characters, as we do know enough to both sympathise and empathise with them.Both Morena Baccarin and Anthony Mackie give strong performances, the cinematography was very good, the effects very much above average, and on the whole, the film was very entertaining .. and perhaps this is just a first instalment film, with more to follow later, and I'm actually looking forward to 'Elevation 2' :)\"\n        ],\n        \"semantic_type\": \"\",\n        \"description\": \"\"\n      }\n    },\n    {\n      \"column\": \"Date\",\n      \"properties\": {\n        \"dtype\": \"object\",\n        \"num_unique_values\": 19,\n        \"samples\": [\n          \"2024-11-11\",\n          \"2024-11-18\",\n          \"2024-11-29\"\n        ],\n        \"semantic_type\": \"\",\n        \"description\": \"\"\n      }\n    }\n  ]\n}"
            }
          },
          "metadata": {},
          "execution_count": 192
        }
      ],
      "source": [
        "df.head()"
      ]
    },
    {
      "cell_type": "code",
      "execution_count": null,
      "id": "e268efef-516d-4441-8870-9316fa3c2880",
      "metadata": {
        "tags": [],
        "id": "e268efef-516d-4441-8870-9316fa3c2880"
      },
      "outputs": [],
      "source": [
        "df.to_csv(\"Mavericks.csv\")"
      ]
    },
    {
      "cell_type": "code",
      "execution_count": null,
      "id": "df0e43ba-b85a-4fcc-9a0e-d81eb52c91a5",
      "metadata": {
        "id": "df0e43ba-b85a-4fcc-9a0e-d81eb52c91a5"
      },
      "outputs": [],
      "source": []
    }
  ],
  "metadata": {
    "kernelspec": {
      "display_name": "Python 3 (ipykernel)",
      "language": "python",
      "name": "python3"
    },
    "language_info": {
      "codemirror_mode": {
        "name": "ipython",
        "version": 3
      },
      "file_extension": ".py",
      "mimetype": "text/x-python",
      "name": "python",
      "nbconvert_exporter": "python",
      "pygments_lexer": "ipython3",
      "version": "3.10.8"
    },
    "colab": {
      "provenance": [],
      "include_colab_link": true
    }
  },
  "nbformat": 4,
  "nbformat_minor": 5
}