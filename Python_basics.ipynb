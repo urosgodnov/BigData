{
  "cells": [
    {
      "cell_type": "markdown",
      "metadata": {
        "id": "view-in-github",
        "colab_type": "text"
      },
      "source": [
        "<a href=\"https://colab.research.google.com/github/urosgodnov/BigData/blob/master/Python_basics.ipynb\" target=\"_parent\"><img src=\"https://colab.research.google.com/assets/colab-badge.svg\" alt=\"Open In Colab\"/></a>"
      ]
    },
    {
      "cell_type": "markdown",
      "id": "83d8b79b",
      "metadata": {
        "id": "83d8b79b"
      },
      "source": [
        "## About Python {.smaller}"
      ]
    },
    {
      "cell_type": "markdown",
      "id": "f901c040",
      "metadata": {
        "id": "f901c040"
      },
      "source": [
        "- Guido van Rossum, first release in 1991"
      ]
    },
    {
      "cell_type": "markdown",
      "id": "f8a1e383",
      "metadata": {
        "id": "f8a1e383"
      },
      "source": [
        "- Code readability"
      ]
    },
    {
      "cell_type": "markdown",
      "id": "16dff42f",
      "metadata": {
        "id": "16dff42f"
      },
      "source": [
        "- Spaces are used to delimit code blocks instead of special characters, and  indents are very important"
      ]
    },
    {
      "cell_type": "markdown",
      "id": "ed596abd",
      "metadata": {
        "id": "ed596abd"
      },
      "source": [
        "- The Python syntax allows you to use the program paradigm you prefer—procedural, object-oriented, or functional programming"
      ]
    },
    {
      "cell_type": "markdown",
      "id": "2d76ce46",
      "metadata": {
        "id": "2d76ce46"
      },
      "source": [
        "- Version 2.x and 3.x, version 2.x \"retired\" on 1.1.2020"
      ]
    },
    {
      "cell_type": "markdown",
      "id": "89d553be",
      "metadata": {
        "id": "89d553be"
      },
      "source": [
        "## Running Python code {.smaller}"
      ]
    },
    {
      "cell_type": "markdown",
      "id": "9ef6f487",
      "metadata": {
        "id": "9ef6f487"
      },
      "source": [
        "- Text editors:"
      ]
    },
    {
      "cell_type": "markdown",
      "id": "b91bc610",
      "metadata": {
        "id": "b91bc610"
      },
      "source": [
        "    - General editors for any text file"
      ]
    },
    {
      "cell_type": "markdown",
      "id": "10f7dd64",
      "metadata": {
        "id": "10f7dd64"
      },
      "source": [
        "    - Most are not design with only Python in mind"
      ]
    },
    {
      "cell_type": "markdown",
      "id": "91533e60",
      "metadata": {
        "id": "91533e60"
      },
      "source": [
        "    - Most popular: Sublime Text and Atom"
      ]
    },
    {
      "cell_type": "markdown",
      "id": "3ddb1b99",
      "metadata": {
        "id": "3ddb1b99"
      },
      "source": [
        "- Full IDEs:"
      ]
    },
    {
      "cell_type": "markdown",
      "id": "2cf40d1e",
      "metadata": {
        "id": "2cf40d1e"
      },
      "source": [
        "    - Design specifically for Python"
      ]
    },
    {
      "cell_type": "markdown",
      "id": "32a79401",
      "metadata": {
        "id": "32a79401"
      },
      "source": [
        "    - Lots of extra functionality"
      ]
    },
    {
      "cell_type": "markdown",
      "id": "26cf30b4",
      "metadata": {
        "id": "26cf30b4"
      },
      "source": [
        "    - Most popular: Spyder and PyCharm"
      ]
    },
    {
      "cell_type": "markdown",
      "id": "6d6b2544",
      "metadata": {
        "id": "6d6b2544"
      },
      "source": [
        "    - I recommend installing [Kite](https://www.kite.com/integrations/spyder/)"
      ]
    },
    {
      "cell_type": "markdown",
      "id": "7c502812",
      "metadata": {
        "id": "7c502812"
      },
      "source": [
        "- Notebook environments:"
      ]
    },
    {
      "cell_type": "markdown",
      "id": "385f9250",
      "metadata": {
        "id": "385f9250"
      },
      "source": [
        "    - Great for learning"
      ]
    },
    {
      "cell_type": "markdown",
      "id": "d8e62b91",
      "metadata": {
        "id": "d8e62b91"
      },
      "source": [
        "    - See input and output next to each other"
      ]
    },
    {
      "cell_type": "markdown",
      "id": "77bc523f",
      "metadata": {
        "id": "77bc523f"
      },
      "source": []
    },
    {
      "cell_type": "markdown",
      "id": "677abaca",
      "metadata": {
        "id": "677abaca"
      },
      "source": []
    },
    {
      "cell_type": "markdown",
      "id": "b52764e0",
      "metadata": {
        "id": "b52764e0"
      },
      "source": [
        "## Installing Python"
      ]
    },
    {
      "cell_type": "markdown",
      "id": "a762ea85",
      "metadata": {
        "id": "a762ea85"
      },
      "source": [
        "  - just Python installation:  [Python](https://www.python.org/downloads/)"
      ]
    },
    {
      "cell_type": "markdown",
      "id": "11595602",
      "metadata": {
        "id": "11595602"
      },
      "source": [
        "  - Python+IDE installation go to:[Anaconda](www.anaconda.com/downloads)"
      ]
    },
    {
      "cell_type": "markdown",
      "id": "65588a50",
      "metadata": {
        "id": "65588a50"
      },
      "source": [
        "  - also Miniconda"
      ]
    },
    {
      "cell_type": "markdown",
      "id": "9e253c94",
      "metadata": {
        "id": "9e253c94"
      },
      "source": []
    },
    {
      "cell_type": "markdown",
      "id": "446d9163",
      "metadata": {
        "id": "446d9163"
      },
      "source": [
        "## Resources"
      ]
    },
    {
      "cell_type": "markdown",
      "id": "44bbffdd",
      "metadata": {
        "id": "44bbffdd"
      },
      "source": []
    },
    {
      "cell_type": "markdown",
      "id": "12675cda",
      "metadata": {
        "id": "12675cda"
      },
      "source": [
        "- Python books (https://pythonbooks.org/)"
      ]
    },
    {
      "cell_type": "markdown",
      "id": "0d476604",
      "metadata": {
        "id": "0d476604"
      },
      "source": [
        "- Python books (https://pythonbooks.revolunet.com/)"
      ]
    },
    {
      "cell_type": "markdown",
      "id": "2e3d8697",
      "metadata": {
        "id": "2e3d8697"
      },
      "source": [
        "- Python newsletters (https://www.pythonweekly.com/)"
      ]
    },
    {
      "cell_type": "markdown",
      "id": "d1397424",
      "metadata": {
        "id": "d1397424"
      },
      "source": [
        "- Python for beginners (https://www.pythonforbeginners.com/)"
      ]
    },
    {
      "cell_type": "markdown",
      "id": "8d6255e0",
      "metadata": {
        "id": "8d6255e0"
      },
      "source": []
    },
    {
      "cell_type": "markdown",
      "id": "e53d6014",
      "metadata": {
        "id": "e53d6014"
      },
      "source": [
        "## Libraries"
      ]
    },
    {
      "cell_type": "markdown",
      "id": "423929bb",
      "metadata": {
        "id": "423929bb"
      },
      "source": [
        " - [Cheese Shop: pypi.org](https://pypi.org/): official repository; default repository for pip"
      ]
    },
    {
      "cell_type": "markdown",
      "id": "da84139e",
      "metadata": {
        "id": "da84139e"
      },
      "source": [
        " - [Python wiki](https://wiki.python.org/moin/FrontPage)"
      ]
    },
    {
      "cell_type": "markdown",
      "id": "aa7b7b9d",
      "metadata": {
        "id": "aa7b7b9d"
      },
      "source": [
        " - [Useful libraries](https://wiki.python.org/moin/UsefulModules)"
      ]
    },
    {
      "cell_type": "markdown",
      "id": "8fa5f7b3",
      "metadata": {
        "id": "8fa5f7b3"
      },
      "source": [
        ""
      ]
    },
    {
      "cell_type": "markdown",
      "id": "b6c91ac8",
      "metadata": {
        "id": "b6c91ac8"
      },
      "source": [
        "## pip and conda (1) {.smaller}"
      ]
    },
    {
      "cell_type": "markdown",
      "id": "ab3c46b0",
      "metadata": {
        "id": "ab3c46b0"
      },
      "source": [
        " -  Pip is the Python Packaging Authority’s recommended tool for installing packages from the Python Package Index"
      ]
    },
    {
      "cell_type": "markdown",
      "id": "c92d93c6",
      "metadata": {
        "id": "c92d93c6"
      },
      "source": [
        " - Conda is a cross platform package and environment manager that installs and manages conda packages from the Anaconda repository"
      ]
    },
    {
      "cell_type": "markdown",
      "id": "2a1a9058",
      "metadata": {
        "id": "2a1a9058"
      },
      "source": [
        " - A major reason for combining pip with conda is when one or more packages are only available to install via pip"
      ]
    },
    {
      "cell_type": "markdown",
      "id": "f23780b2",
      "metadata": {
        "id": "f23780b2"
      },
      "source": [
        ""
      ]
    },
    {
      "cell_type": "markdown",
      "id": "c6d935f1",
      "metadata": {
        "id": "c6d935f1"
      },
      "source": [
        "```{r out.width = \"70%\", fig.align='center'}"
      ]
    },
    {
      "cell_type": "markdown",
      "id": "d919a4bd",
      "metadata": {
        "id": "d919a4bd"
      },
      "source": [
        "include_graphics(\"./Pictures/pipconda.jpg\")"
      ]
    },
    {
      "cell_type": "markdown",
      "id": "ddbbfec4",
      "metadata": {
        "id": "ddbbfec4"
      },
      "source": [
        "```"
      ]
    },
    {
      "cell_type": "markdown",
      "id": "b8b6f492",
      "metadata": {
        "id": "b8b6f492"
      },
      "source": []
    },
    {
      "cell_type": "markdown",
      "id": "b605175c",
      "metadata": {
        "id": "b605175c"
      },
      "source": [
        "## pip and conda (2) {.smaller}"
      ]
    },
    {
      "cell_type": "markdown",
      "id": "d823c491",
      "metadata": {
        "id": "d823c491"
      },
      "source": [
        " - most of data science packages are stored in Anaconda repository"
      ]
    },
    {
      "cell_type": "markdown",
      "id": "64a8aafc",
      "metadata": {
        "id": "64a8aafc"
      },
      "source": [
        " - majority of packages is stored in pypi.org repository"
      ]
    },
    {
      "cell_type": "markdown",
      "id": "a63d76ae",
      "metadata": {
        "id": "a63d76ae"
      },
      "source": [
        " - combining conda and pip"
      ]
    },
    {
      "cell_type": "markdown",
      "id": "53a68fca",
      "metadata": {
        "id": "53a68fca"
      },
      "source": [
        " - conda comes with anaconda distribution"
      ]
    },
    {
      "cell_type": "markdown",
      "id": "8aa231fa",
      "metadata": {
        "id": "8aa231fa"
      },
      "source": [
        " - installing pip: conda install -c anaconda pip"
      ]
    },
    {
      "cell_type": "markdown",
      "id": "ce293800",
      "metadata": {
        "id": "ce293800"
      },
      "source": [
        ""
      ]
    },
    {
      "cell_type": "markdown",
      "id": "c88c467f",
      "metadata": {
        "id": "c88c467f"
      },
      "source": [
        "## Anaconda"
      ]
    },
    {
      "cell_type": "markdown",
      "id": "b9c980ca",
      "metadata": {
        "id": "b9c980ca"
      },
      "source": []
    },
    {
      "cell_type": "markdown",
      "id": "a28a2a25",
      "metadata": {
        "id": "a28a2a25"
      },
      "source": [
        "```{r out.width = \"70%\", fig.align='center'}"
      ]
    },
    {
      "cell_type": "markdown",
      "id": "07547ca0",
      "metadata": {
        "id": "07547ca0"
      },
      "source": [
        "include_graphics(\"./Pictures/anaconda.png\")"
      ]
    },
    {
      "cell_type": "markdown",
      "id": "22b61722",
      "metadata": {
        "id": "22b61722"
      },
      "source": [
        "```"
      ]
    },
    {
      "cell_type": "markdown",
      "id": "79740ea8",
      "metadata": {
        "id": "79740ea8"
      },
      "source": []
    },
    {
      "cell_type": "markdown",
      "id": "30c7d4cb",
      "metadata": {
        "id": "30c7d4cb"
      },
      "source": [
        "## How to see which modules are installed"
      ]
    },
    {
      "cell_type": "markdown",
      "id": "2b212da1",
      "metadata": {
        "id": "2b212da1"
      },
      "source": [
        "- pip list"
      ]
    },
    {
      "cell_type": "markdown",
      "id": "601abb10",
      "metadata": {
        "id": "601abb10"
      },
      "source": [
        "- pip list --outdated"
      ]
    },
    {
      "cell_type": "markdown",
      "id": "d11547c7",
      "metadata": {
        "id": "d11547c7"
      },
      "source": [
        "- check your installed modules"
      ]
    },
    {
      "cell_type": "markdown",
      "id": "e2d08096",
      "metadata": {
        "id": "e2d08096"
      },
      "source": [
        "- are there many outdated modules?"
      ]
    },
    {
      "cell_type": "markdown",
      "id": "38c40fa4",
      "metadata": {
        "id": "38c40fa4"
      },
      "source": []
    },
    {
      "cell_type": "markdown",
      "id": "6bfd1e25",
      "metadata": {
        "id": "6bfd1e25"
      },
      "source": [
        "## Installing , upgrading and downgrading module"
      ]
    },
    {
      "cell_type": "markdown",
      "id": "430acfca",
      "metadata": {
        "id": "430acfca"
      },
      "source": [
        "- conda/pip install module_name"
      ]
    },
    {
      "cell_type": "markdown",
      "id": "03d5f476",
      "metadata": {
        "id": "03d5f476"
      },
      "source": [
        "- conda/pip install -U module_name"
      ]
    },
    {
      "cell_type": "markdown",
      "id": "5e7202bc",
      "metadata": {
        "id": "5e7202bc"
      },
      "source": [
        "- pip freeze | findstr module_name"
      ]
    },
    {
      "cell_type": "markdown",
      "id": "6f844324",
      "metadata": {
        "id": "6f844324"
      },
      "source": [
        "- pip install module_name==version (could be older than current)"
      ]
    },
    {
      "cell_type": "markdown",
      "id": "88ef15ea",
      "metadata": {
        "id": "88ef15ea"
      },
      "source": [
        ""
      ]
    },
    {
      "cell_type": "markdown",
      "id": "38874b08",
      "metadata": {
        "id": "38874b08"
      },
      "source": [
        "## Where modules are installed"
      ]
    },
    {
      "cell_type": "markdown",
      "id": "a032e20d",
      "metadata": {
        "id": "a032e20d"
      },
      "source": [
        "- use inspect module:"
      ]
    },
    {
      "cell_type": "markdown",
      "id": "8e6205ff",
      "metadata": {
        "id": "8e6205ff"
      },
      "source": [
        "  - import inspect"
      ]
    },
    {
      "cell_type": "markdown",
      "id": "8a44dc4b",
      "metadata": {
        "id": "8a44dc4b"
      },
      "source": [
        "  - inspect.getfile(module_name)"
      ]
    },
    {
      "cell_type": "markdown",
      "id": "ad0d006d",
      "metadata": {
        "id": "ad0d006d"
      },
      "source": [
        "  "
      ]
    },
    {
      "cell_type": "markdown",
      "id": "cd83f021",
      "metadata": {
        "id": "cd83f021"
      },
      "source": [
        "## Virtual environment"
      ]
    },
    {
      "cell_type": "markdown",
      "id": "7dea0973",
      "metadata": {
        "id": "7dea0973"
      },
      "source": [
        "- for the development"
      ]
    },
    {
      "cell_type": "markdown",
      "id": "e07e0e8c",
      "metadata": {
        "id": "e07e0e8c"
      },
      "source": [
        "- backward compatibility"
      ]
    },
    {
      "cell_type": "markdown",
      "id": "556bd8a6",
      "metadata": {
        "id": "556bd8a6"
      },
      "source": [
        "- path_to_the_python_exe\\\\python -m venv <myenvname>"
      ]
    },
    {
      "cell_type": "markdown",
      "id": "79331b81",
      "metadata": {
        "id": "79331b81"
      },
      "source": [
        "- deactivate"
      ]
    },
    {
      "cell_type": "markdown",
      "id": "bd308bce",
      "metadata": {
        "id": "bd308bce"
      },
      "source": [
        "- to remove the environment, just delete the folder"
      ]
    },
    {
      "cell_type": "markdown",
      "id": "ebfdba08",
      "metadata": {
        "id": "ebfdba08"
      },
      "source": []
    },
    {
      "cell_type": "markdown",
      "id": "3f90e07e",
      "metadata": {
        "id": "3f90e07e"
      },
      "source": [
        "## Lab"
      ]
    },
    {
      "cell_type": "markdown",
      "id": "17b2a96e",
      "metadata": {
        "id": "17b2a96e"
      },
      "source": [
        "- open conda prompt"
      ]
    },
    {
      "cell_type": "markdown",
      "id": "89be4f58",
      "metadata": {
        "id": "89be4f58"
      },
      "source": [
        "- on c disk create folder dummyProject (use md dummyProject)"
      ]
    },
    {
      "cell_type": "markdown",
      "id": "b0de346e",
      "metadata": {
        "id": "b0de346e"
      },
      "source": [
        "- go to dummyProject (use cd dummyProject)"
      ]
    },
    {
      "cell_type": "markdown",
      "id": "9a32a8b2",
      "metadata": {
        "id": "9a32a8b2"
      },
      "source": [
        "- create virtual environment called firstVirtualEnv"
      ]
    },
    {
      "cell_type": "markdown",
      "id": "850a903b",
      "metadata": {
        "id": "850a903b"
      },
      "source": [
        "- activate it"
      ]
    },
    {
      "cell_type": "markdown",
      "id": "5dc81dc8",
      "metadata": {
        "id": "5dc81dc8"
      },
      "source": [
        "- check installed modules"
      ]
    },
    {
      "cell_type": "markdown",
      "id": "63031a7b",
      "metadata": {
        "id": "63031a7b"
      },
      "source": [
        "- install pandas version 0.23.2"
      ]
    },
    {
      "cell_type": "markdown",
      "id": "5b96e3a6",
      "metadata": {
        "id": "5b96e3a6"
      },
      "source": [
        "- upgrade it to version 0.25.1"
      ]
    },
    {
      "cell_type": "markdown",
      "id": "d863b5e7",
      "metadata": {
        "id": "d863b5e7"
      },
      "source": [
        "- downgrade it to 0.24.1"
      ]
    },
    {
      "cell_type": "markdown",
      "id": "a330dbb9",
      "metadata": {
        "id": "a330dbb9"
      },
      "source": [
        "- deactivate it"
      ]
    },
    {
      "cell_type": "markdown",
      "id": "d1070365",
      "metadata": {
        "id": "d1070365"
      },
      "source": []
    },
    {
      "cell_type": "markdown",
      "id": "85afa017",
      "metadata": {
        "id": "85afa017"
      },
      "source": [
        "## What shall we use"
      ]
    },
    {
      "cell_type": "markdown",
      "id": "faafa4fc",
      "metadata": {
        "id": "faafa4fc"
      },
      "source": [
        " - Jupyter notebook/lab"
      ]
    },
    {
      "cell_type": "markdown",
      "id": "35430154",
      "metadata": {
        "id": "35430154"
      },
      "source": [
        " - Spyder"
      ]
    },
    {
      "cell_type": "markdown",
      "id": "e673b3cd",
      "metadata": {
        "id": "e673b3cd"
      },
      "source": [
        ""
      ]
    },
    {
      "cell_type": "markdown",
      "id": "cb7e8542",
      "metadata": {
        "id": "cb7e8542"
      },
      "source": [
        "## Changing default folder for Jupyter notebook"
      ]
    },
    {
      "cell_type": "markdown",
      "id": "5f947fa3",
      "metadata": {
        "id": "5f947fa3"
      },
      "source": [
        " - go to cmd (or Anaconda Prompt) and run: \"jupyter notebook --generate-config\""
      ]
    },
    {
      "cell_type": "markdown",
      "id": "db774e7e",
      "metadata": {
        "id": "db774e7e"
      },
      "source": [
        " - C:/Users/username/.jupyter/jupyter_notebook_config.py"
      ]
    },
    {
      "cell_type": "markdown",
      "id": "065e971b",
      "metadata": {
        "id": "065e971b"
      },
      "source": [
        " - open jupyter_notebook_config.py with text editor and search for #c.NotebookApp.notebook_dir = ''"
      ]
    },
    {
      "cell_type": "markdown",
      "id": "771dc958",
      "metadata": {
        "id": "771dc958"
      },
      "source": [
        " - replace to c.NotebookApp.notebook_dir = '/the/path/to/home/folder/'"
      ]
    },
    {
      "cell_type": "markdown",
      "id": "40196d4e",
      "metadata": {
        "id": "40196d4e"
      },
      "source": [
        ""
      ]
    },
    {
      "cell_type": "markdown",
      "id": "bc68977d",
      "metadata": {
        "id": "bc68977d"
      },
      "source": [
        "## Jupyter notebook extensions"
      ]
    },
    {
      "cell_type": "markdown",
      "id": "e5514406",
      "metadata": {
        "id": "e5514406"
      },
      "source": []
    },
    {
      "cell_type": "markdown",
      "id": "63fa2e14",
      "metadata": {
        "id": "63fa2e14"
      },
      "source": [
        "- nbextensions: conda install -c conda-forge jupyter_contrib_nbextensions"
      ]
    },
    {
      "cell_type": "markdown",
      "id": "81681b35",
      "metadata": {
        "id": "81681b35"
      },
      "source": [
        "- nbextensions manager: conda install -c conda-forge jupyter_contrib_nbextensions"
      ]
    },
    {
      "cell_type": "markdown",
      "id": "f9aaf656",
      "metadata": {
        "id": "f9aaf656"
      },
      "source": [
        "- enable Code prettify, Table of contents, Hinterland"
      ]
    },
    {
      "cell_type": "markdown",
      "id": "9e164a10",
      "metadata": {
        "id": "9e164a10"
      },
      "source": []
    },
    {
      "cell_type": "markdown",
      "id": "556a50aa",
      "metadata": {
        "id": "556a50aa"
      },
      "source": [
        "---"
      ]
    },
    {
      "cell_type": "markdown",
      "id": "2e4b14a5",
      "metadata": {
        "id": "2e4b14a5"
      },
      "source": [
        "## Basic objects"
      ]
    },
    {
      "cell_type": "markdown",
      "id": "4a3576a8",
      "metadata": {
        "id": "4a3576a8"
      },
      "source": [
        "## List"
      ]
    },
    {
      "cell_type": "code",
      "execution_count": null,
      "id": "2fe5df28",
      "metadata": {
        "id": "2fe5df28"
      },
      "outputs": [],
      "source": [
        "my_list = [1,2,3]\n",
        "print (my_list)\n",
        "\n",
        "my_list = ['A string',23,100.232,'o']\n",
        "print (my_list)\n"
      ]
    },
    {
      "cell_type": "code",
      "execution_count": null,
      "id": "8c218b81",
      "metadata": {
        "id": "8c218b81"
      },
      "outputs": [],
      "source": [
        "my_list = ['one','two','three',4,5]\n",
        "# Length of object\n",
        "print(len(my_list))\n",
        "# Grab element at index 0\n",
        "print(my_list[0])\n"
      ]
    },
    {
      "cell_type": "code",
      "execution_count": null,
      "id": "c70d2ee3",
      "metadata": {
        "id": "c70d2ee3"
      },
      "outputs": [],
      "source": [
        "my_list = ['one','two','three',4,5]\n",
        "# Reassign\n",
        "my_list = my_list + ['add new item permanently']\n",
        "print(my_list)\n",
        "\n",
        "# Make the list double\n",
        "my_list=my_list * 2\n",
        "print(my_list)\n"
      ]
    },
    {
      "cell_type": "code",
      "execution_count": null,
      "id": "e76c8b4c",
      "metadata": {
        "id": "e76c8b4c"
      },
      "outputs": [],
      "source": [
        "# Append\n",
        "list1 = [1,2,3]\n",
        "list1.append('append me!')\n",
        "print(list1)\n",
        "\n",
        "# Pop off the 0 indexed item\n",
        "list1 = [1,2,3]\n",
        "list1.pop(0)\n",
        "print(list1)"
      ]
    },
    {
      "cell_type": "code",
      "execution_count": null,
      "id": "1c5e9935",
      "metadata": {
        "id": "1c5e9935"
      },
      "outputs": [],
      "source": [
        "\n",
        "# Use reverse to reverse order (this is permanent!)\n",
        "list1.reverse()\n",
        "print(list1)\n",
        "# Sorting\n",
        "new_list=[3, 2, 5, 1, 7]\n",
        "new_list.sort()\n",
        "print(new_list)"
      ]
    },
    {
      "cell_type": "markdown",
      "id": "1b2b0cba",
      "metadata": {
        "id": "1b2b0cba"
      },
      "source": [
        "## Excercise"
      ]
    },
    {
      "cell_type": "markdown",
      "id": "f915815c",
      "metadata": {
        "id": "f915815c"
      },
      "source": [
        "Create a list that contains at least one string, one integer and one float."
      ]
    },
    {
      "cell_type": "markdown",
      "id": "0df2f040",
      "metadata": {
        "id": "0df2f040"
      },
      "source": [
        "## Tuple"
      ]
    },
    {
      "cell_type": "code",
      "execution_count": null,
      "id": "05e50721",
      "metadata": {
        "id": "05e50721"
      },
      "outputs": [],
      "source": [
        "#Creating\n",
        "thistuple = (\"apple\", \"banana\", \"cherry\")\n",
        "print(thistuple)\n",
        "#Access Tuple Items\n",
        "thistuple = (\"apple\", \"banana\", \"cherry\")\n",
        "print(thistuple[1])"
      ]
    },
    {
      "cell_type": "markdown",
      "id": "00b42d80",
      "metadata": {
        "id": "00b42d80"
      },
      "source": [
        "- Tuples are unchangeable"
      ]
    },
    {
      "cell_type": "markdown",
      "id": "d70c0196",
      "metadata": {
        "id": "d70c0196"
      },
      "source": [
        "- thistuple = (\"apple\", \"banana\", \"cherry\")"
      ]
    },
    {
      "cell_type": "markdown",
      "id": "c910f5d5",
      "metadata": {
        "id": "c910f5d5"
      },
      "source": [
        "- thistuple[1] = \"blackcurrant\""
      ]
    },
    {
      "cell_type": "markdown",
      "id": "60171c79",
      "metadata": {
        "id": "60171c79"
      },
      "source": [
        "- The values will remain the same"
      ]
    },
    {
      "cell_type": "code",
      "execution_count": null,
      "id": "74db692d",
      "metadata": {
        "id": "74db692d"
      },
      "outputs": [],
      "source": [
        "#Loop through tuple\n",
        "thistuple = (\"apple\", \"banana\", \"cherry\")\n",
        "for x in thistuple:\n",
        "     print(x)\n",
        "#tuple length\n",
        "thistuple = (\"apple\", \"banana\", \"cherry\")\n",
        "print(len(thistuple))"
      ]
    },
    {
      "cell_type": "code",
      "execution_count": null,
      "id": "b03dd798",
      "metadata": {
        "id": "b03dd798"
      },
      "outputs": [],
      "source": [
        "#index and count\n",
        "thistuple = (\"apple\", \"banana\",\"banana\", \"cherry\")\n",
        "print(thistuple.count(\"banana\"))\n",
        "print(thistuple.index(\"banana\"))"
      ]
    },
    {
      "cell_type": "markdown",
      "id": "66f3c22c",
      "metadata": {
        "id": "66f3c22c"
      },
      "source": [
        "## Tuple vs. list"
      ]
    },
    {
      "cell_type": "markdown",
      "id": "38ec4ccf",
      "metadata": {
        "id": "38ec4ccf"
      },
      "source": [
        "- The key difference is that tuples are immutable"
      ]
    },
    {
      "cell_type": "markdown",
      "id": "9e846cd9",
      "metadata": {
        "id": "9e846cd9"
      },
      "source": [
        "- list is mutable"
      ]
    },
    {
      "cell_type": "markdown",
      "id": "c6bdf655",
      "metadata": {
        "id": "c6bdf655"
      },
      "source": [
        "- list can't be used as a key in a dictionary"
      ]
    },
    {
      "cell_type": "markdown",
      "id": "313cfac2",
      "metadata": {
        "id": "313cfac2"
      },
      "source": [
        "## Dictionaries"
      ]
    },
    {
      "cell_type": "code",
      "execution_count": null,
      "id": "fe66a9de",
      "metadata": {
        "id": "fe66a9de"
      },
      "outputs": [],
      "source": [
        "# Make a dictionary with {} and : to signify a key and a value\n",
        "my_dict = {'key1':'value1','key2':'value2'}\n",
        "# Call values by their key\n",
        "print(my_dict['key2'])\n",
        "my_dict = {'key1':123,'key2':[12,23,33],'key3':['item0','item1','item2']}\n",
        "# Let's call items from the dictionary\n",
        "print(my_dict['key3'])\n",
        "# Can call an index on that value\n",
        "print(my_dict['key3'][0])"
      ]
    },
    {
      "cell_type": "code",
      "execution_count": null,
      "id": "4e91a2df",
      "metadata": {
        "id": "4e91a2df"
      },
      "outputs": [],
      "source": [
        "# Create a new dictionary\n",
        "d = {}\n",
        "# Create a new key through assignment\n",
        "d['animal'] = 'Dog'\n",
        "# Can do this with any object\n",
        "d['answer'] = 42\n",
        "print(d)"
      ]
    },
    {
      "cell_type": "code",
      "execution_count": null,
      "id": "d5d28263",
      "metadata": {
        "id": "d5d28263"
      },
      "outputs": [],
      "source": [
        "# Create a typical dictionary\n",
        "d = {'key1':1,'key2':2,'key3':3}\n",
        "# Method to return a list of all keys\n",
        "print(d.keys())\n",
        "# Method to grab all values\n",
        "print(d.values())\n",
        "# Method to return tuples of all items\n",
        "print(d.items())"
      ]
    },
    {
      "cell_type": "markdown",
      "id": "20fd2ade",
      "metadata": {
        "id": "20fd2ade"
      },
      "source": [
        "## Excercise"
      ]
    },
    {
      "cell_type": "markdown",
      "id": "daba4f48",
      "metadata": {
        "id": "daba4f48"
      },
      "source": [
        "Create a dictionary where all the keys are strings, and all the values are integers."
      ]
    },
    {
      "cell_type": "markdown",
      "id": "f5b99626",
      "metadata": {
        "id": "f5b99626"
      },
      "source": [
        "## Sets"
      ]
    },
    {
      "cell_type": "markdown",
      "id": "87722ac3",
      "metadata": {
        "id": "87722ac3"
      },
      "source": [
        "- Sets are an unordered collection of UNIQUE elements"
      ]
    },
    {
      "cell_type": "code",
      "execution_count": null,
      "id": "30197a53",
      "metadata": {
        "id": "30197a53"
      },
      "outputs": [],
      "source": [
        "x = set()\n",
        "# We add to sets with the add() method\n",
        "x.add(1)\n",
        "print(x)\n",
        "# Add a different element\n",
        "x.add(2)\n",
        "print(x)\n",
        "# Try to add the same element\n",
        "x.add(1)\n",
        "print(x)"
      ]
    },
    {
      "cell_type": "code",
      "execution_count": null,
      "id": "820e577f",
      "metadata": {
        "id": "820e577f"
      },
      "outputs": [],
      "source": [
        "\n",
        "\n",
        "# Create a list with repeats\n",
        "list1 = [1,1,2,2,3,4,5,6,1,1]\n",
        "print(set(list1))"
      ]
    },
    {
      "cell_type": "markdown",
      "id": "d7e27dd0",
      "metadata": {
        "id": "d7e27dd0"
      },
      "source": [
        "Turn the string Mississippi into a set of unique letters."
      ]
    },
    {
      "cell_type": "markdown",
      "id": "38e7cd43",
      "metadata": {
        "id": "38e7cd43"
      },
      "source": [
        "## Indentation"
      ]
    },
    {
      "cell_type": "markdown",
      "id": "5a850d53",
      "metadata": {
        "id": "5a850d53"
      },
      "source": [
        "It is important to keep a good understanding of how indentation works in Python to maintain the structure and order of your code!"
      ]
    },
    {
      "cell_type": "markdown",
      "id": "834e774b",
      "metadata": {
        "id": "834e774b"
      },
      "source": [
        "## If statement\n"
      ]
    },
    {
      "cell_type": "code",
      "execution_count": null,
      "id": "4f1ecd83",
      "metadata": {
        "id": "4f1ecd83"
      },
      "outputs": [],
      "source": [
        "person = 'George'\n",
        "if person == 'Sammy':\n",
        "    print('Welcome Sammy!')\n",
        "elif person =='George':\n",
        "    print('Welcome George!')\n",
        "else:\n",
        "    print(\"Welcome, what's your name?\")"
      ]
    },
    {
      "cell_type": "markdown",
      "id": "e8b1beaf",
      "metadata": {
        "id": "e8b1beaf"
      },
      "source": [
        "## For loops"
      ]
    },
    {
      "cell_type": "code",
      "execution_count": null,
      "id": "23aec500",
      "metadata": {
        "id": "23aec500"
      },
      "outputs": [],
      "source": [
        "list1 = [1,2,3,4,5]\n",
        "for num in list1:\n",
        "    print(num)"
      ]
    },
    {
      "cell_type": "markdown",
      "id": "c30c2c3c",
      "metadata": {
        "id": "c30c2c3c"
      },
      "source": [
        "## For loops + if statement"
      ]
    },
    {
      "cell_type": "code",
      "execution_count": null,
      "id": "b682d193",
      "metadata": {
        "id": "b682d193"
      },
      "outputs": [],
      "source": [
        "list1 = [1,2,3,4,5]\n",
        "for num in list1:\n",
        "    if num % 2 == 0:\n",
        "        print(num)\n",
        "    else:\n",
        "        print('Odd number')"
      ]
    },
    {
      "cell_type": "markdown",
      "id": "b3060091",
      "metadata": {
        "id": "b3060091"
      },
      "source": [
        "## List comprehensions"
      ]
    },
    {
      "cell_type": "markdown",
      "id": "ed495318",
      "metadata": {
        "id": "ed495318"
      },
      "source": [
        "- new_list = [expression(i) for i in old_list if filter(i)]"
      ]
    },
    {
      "cell_type": "markdown",
      "id": "ef8f79b6",
      "metadata": {
        "id": "ef8f79b6"
      },
      "source": [
        "- new_range  = [i * i          for i in range(5)   if i % 2 == 0]"
      ]
    },
    {
      "cell_type": "code",
      "execution_count": null,
      "id": "e2319d25",
      "metadata": {
        "id": "e2319d25"
      },
      "outputs": [],
      "source": [
        "#old\n",
        "old_range=[]\n",
        "for i in range(5):\n",
        "    if i%2==0:\n",
        "       old_range.append(i*i)\n",
        "print(old_range)\n",
        "#new\n",
        "new_range  = [i * i for i in range(5) if i % 2 == 0]\n",
        "print(new_range)"
      ]
    },
    {
      "cell_type": "markdown",
      "id": "03cb4d61",
      "metadata": {
        "id": "03cb4d61"
      },
      "source": [
        "## While loops"
      ]
    },
    {
      "cell_type": "code",
      "execution_count": null,
      "id": "f365987a",
      "metadata": {
        "id": "f365987a"
      },
      "outputs": [],
      "source": [
        "x = 0\n",
        "while x < 4:\n",
        "    print('x is currently: ',x)\n",
        "    print(' x is still less than 4, adding 1 to x')\n",
        "    x+=1"
      ]
    },
    {
      "cell_type": "markdown",
      "id": "bd845402",
      "metadata": {
        "id": "bd845402"
      },
      "source": [
        "## While loops - breaks"
      ]
    },
    {
      "cell_type": "markdown",
      "id": "d935dab3",
      "metadata": {
        "id": "d935dab3"
      },
      "source": [
        "- break: Breaks out of the current closest enclosing loop."
      ]
    },
    {
      "cell_type": "markdown",
      "id": "157f022b",
      "metadata": {
        "id": "157f022b"
      },
      "source": [
        "- continue: Goes to the top of the closest enclosing loop."
      ]
    },
    {
      "cell_type": "markdown",
      "id": "559933aa",
      "metadata": {
        "id": "559933aa"
      },
      "source": [
        "- pass: Does nothing at all."
      ]
    },
    {
      "cell_type": "markdown",
      "id": "00e3a48c",
      "metadata": {
        "id": "00e3a48c"
      },
      "source": [
        "## While loops + if"
      ]
    },
    {
      "cell_type": "markdown",
      "id": "f4a0ed1a",
      "metadata": {
        "id": "f4a0ed1a"
      },
      "source": [
        "    if test:"
      ]
    },
    {
      "cell_type": "markdown",
      "id": "546d410f",
      "metadata": {
        "id": "546d410f"
      },
      "source": [
        "        break"
      ]
    },
    {
      "cell_type": "markdown",
      "id": "6b60fbe9",
      "metadata": {
        "id": "6b60fbe9"
      },
      "source": [
        "    if test:"
      ]
    },
    {
      "cell_type": "markdown",
      "id": "95eb2ff1",
      "metadata": {
        "id": "95eb2ff1"
      },
      "source": [
        "        continue"
      ]
    },
    {
      "cell_type": "markdown",
      "id": "5cd8db53",
      "metadata": {
        "id": "5cd8db53"
      },
      "source": [
        "## Excercise"
      ]
    },
    {
      "cell_type": "markdown",
      "id": "55a736c1",
      "metadata": {
        "id": "55a736c1"
      },
      "source": [
        "- Use for, .split(), and if to create a Statement that will print out words that start with 's':"
      ]
    },
    {
      "cell_type": "markdown",
      "id": "30f885bc",
      "metadata": {
        "id": "30f885bc"
      },
      "source": [
        "st = 'Print only the words that start with s in this sentence'"
      ]
    },
    {
      "cell_type": "markdown",
      "id": "b29cd6ec",
      "metadata": {
        "id": "b29cd6ec"
      },
      "source": [
        "- Use range() to print all the even numbers from 0 to 10."
      ]
    },
    {
      "cell_type": "markdown",
      "id": "66e594f4",
      "metadata": {
        "id": "66e594f4"
      },
      "source": [
        "- Use a list comprehension to create a list of all numbers between 1 and 50 that are divisible by 3."
      ]
    },
    {
      "cell_type": "markdown",
      "id": "9dc9df0a",
      "metadata": {
        "id": "9dc9df0a"
      },
      "source": [
        "- Go through the string below and if the length of a word is even print \"even! st = 'Print every word in this sentence that has an even number of letters'. Use a list comprehension."
      ]
    },
    {
      "cell_type": "markdown",
      "id": "097b95d9",
      "metadata": {
        "id": "097b95d9"
      },
      "source": [
        "## User defined functions"
      ]
    },
    {
      "cell_type": "markdown",
      "id": "7d32995a",
      "metadata": {
        "id": "7d32995a"
      },
      "source": [
        "- defining function:"
      ]
    },
    {
      "cell_type": "markdown",
      "id": "57888387",
      "metadata": {
        "id": "57888387"
      },
      "source": [
        " def function_name(argument1, argument2, ...) :"
      ]
    },
    {
      "cell_type": "markdown",
      "id": "29b0daf9",
      "metadata": {
        "id": "29b0daf9"
      },
      "source": [
        "    statement_1"
      ]
    },
    {
      "cell_type": "markdown",
      "id": "8a527e36",
      "metadata": {
        "id": "8a527e36"
      },
      "source": [
        "    statement_2"
      ]
    },
    {
      "cell_type": "markdown",
      "id": "0d2a5e52",
      "metadata": {
        "id": "0d2a5e52"
      },
      "source": [
        "    ...."
      ]
    },
    {
      "cell_type": "markdown",
      "id": "b5ac0396",
      "metadata": {
        "id": "b5ac0396"
      },
      "source": [
        " function_name(arg1, arg2)"
      ]
    },
    {
      "cell_type": "markdown",
      "id": "d8791c15",
      "metadata": {
        "id": "d8791c15"
      },
      "source": [
        "## User defined functions - example"
      ]
    },
    {
      "cell_type": "code",
      "execution_count": null,
      "id": "2bc64b45",
      "metadata": {
        "id": "2bc64b45"
      },
      "outputs": [],
      "source": [
        "\n",
        "def avg_number(x, y):\n",
        "  print(\"Average of \",x,\" and \",y, \" is \",(x+y)/2)\n",
        "\n",
        "avg_number(3, 4)"
      ]
    },
    {
      "cell_type": "code",
      "execution_count": null,
      "id": "ada619fe",
      "metadata": {
        "id": "ada619fe"
      },
      "outputs": [],
      "source": [
        "\n",
        "def nsquare(x, y):\n",
        "    return (x*x + 2*x*y + y*y)\n",
        "\n",
        "print(\"The square of the sum of 2 and 3 is : \", nsquare(2, 3))"
      ]
    },
    {
      "cell_type": "markdown",
      "id": "02fd838d",
      "metadata": {
        "id": "02fd838d"
      },
      "source": [
        "## User defined functions - default values"
      ]
    },
    {
      "cell_type": "code",
      "execution_count": null,
      "id": "7529597a",
      "metadata": {
        "id": "7529597a"
      },
      "outputs": [],
      "source": [
        "def marks(english, math = 85, science = 80):\n",
        "  print('Marks in : English is - ', english,', Math - ',math,\n",
        "  ', Science - ',science)\n",
        "\n",
        "marks(71, 77)\n",
        "marks(65, science = 74)\n",
        "marks(science = 70, math = 90, english = 75)"
      ]
    },
    {
      "cell_type": "markdown",
      "id": "7c74dc43",
      "metadata": {
        "id": "7c74dc43"
      },
      "source": [
        "## User defined functions - arbitrary argument Lists"
      ]
    },
    {
      "cell_type": "markdown",
      "id": "01a84d07",
      "metadata": {
        "id": "01a84d07"
      },
      "source": [
        "- these arguments will be wrapped in a tuple and it can be defined with *args construct"
      ]
    },
    {
      "cell_type": "code",
      "execution_count": null,
      "id": "62ef05a8",
      "metadata": {
        "id": "62ef05a8"
      },
      "outputs": [],
      "source": [
        "def sum(*numbers):\n",
        "     s = 0\n",
        "     for n in numbers:\n",
        "           s += n\n",
        "     return s\n",
        "\n",
        "print(sum(1,2,3,4))"
      ]
    },
    {
      "cell_type": "markdown",
      "id": "0db4a923",
      "metadata": {
        "id": "0db4a923"
      },
      "source": [
        "## Lambda functions"
      ]
    },
    {
      "cell_type": "markdown",
      "id": "cb5e13db",
      "metadata": {
        "id": "cb5e13db"
      },
      "source": [
        "- functional programming"
      ]
    },
    {
      "cell_type": "markdown",
      "id": "4a10f13c",
      "metadata": {
        "id": "4a10f13c"
      },
      "source": [
        "- lambda arguments : expression"
      ]
    },
    {
      "cell_type": "code",
      "execution_count": null,
      "id": "fd04f1ba",
      "metadata": {
        "id": "fd04f1ba"
      },
      "outputs": [],
      "source": [
        "def adding_10(a):\n",
        "  return a+10\n",
        "\n",
        "print(adding_10(5))\n",
        "\n",
        "x=lambda a:a+10\n",
        "print(x(5))"
      ]
    },
    {
      "cell_type": "code",
      "execution_count": null,
      "id": "acaaf7b9",
      "metadata": {
        "id": "acaaf7b9"
      },
      "outputs": [],
      "source": [
        "x = lambda a, b, c : a + b + c\n",
        "print(x(5, 6, 2))\n"
      ]
    },
    {
      "cell_type": "code",
      "execution_count": null,
      "id": "971c4137",
      "metadata": {
        "id": "971c4137"
      },
      "outputs": [],
      "source": [
        "converter = lambda x : x*2 if x < 10 else (x*3 if x < 20 else x)\n",
        "\n",
        "print('convert 5 to : ', converter(5))\n",
        "print('convert 13 to : ', converter(13))\n",
        "print('convert 23 to : ', converter(23))\n"
      ]
    }
  ],
  "metadata": {
    "colab": {
      "provenance": [],
      "include_colab_link": true
    }
  },
  "nbformat": 4,
  "nbformat_minor": 5
}