{
  "cells": [
    {
      "cell_type": "markdown",
      "metadata": {
        "id": "view-in-github",
        "colab_type": "text"
      },
      "source": [
        "<a href=\"https://colab.research.google.com/github/urosgodnov/BigData/blob/master/textMining_scraping_data.ipynb\" target=\"_parent\"><img src=\"https://colab.research.google.com/assets/colab-badge.svg\" alt=\"Open In Colab\"/></a>"
      ]
    },
    {
      "cell_type": "code",
      "execution_count": null,
      "id": "09a6b4f9-7b96-431f-88c3-44b8371b79d0",
      "metadata": {
        "tags": [],
        "id": "09a6b4f9-7b96-431f-88c3-44b8371b79d0"
      },
      "outputs": [],
      "source": [
        "from selenium import webdriver\n",
        "from selenium.webdriver.chrome.options import Options\n",
        "from webdriver_manager.chrome import ChromeDriverManager\n",
        "from selenium.webdriver.common.by import By\n",
        "\n",
        "import pandas as pd\n",
        "import time"
      ]
    },
    {
      "cell_type": "code",
      "execution_count": null,
      "id": "d6e95cc9-4ecb-48af-9021-4ec8aae28cef",
      "metadata": {
        "tags": [],
        "id": "d6e95cc9-4ecb-48af-9021-4ec8aae28cef"
      },
      "outputs": [],
      "source": [
        "options = Options()\n",
        "from selenium.webdriver.chrome.service import Service"
      ]
    },
    {
      "cell_type": "code",
      "execution_count": null,
      "id": "b918341c-60fd-41d9-b990-54a083efd897",
      "metadata": {
        "tags": [],
        "id": "b918341c-60fd-41d9-b990-54a083efd897",
        "outputId": "d5a8f5dc-b3f4-4811-c955-b9a7bd84428e"
      },
      "outputs": [
        {
          "name": "stderr",
          "output_type": "stream",
          "text": [
            "[WDM] - Downloading: 100%|████████████████████████████████████████████████████████| 6.79M/6.79M [00:03<00:00, 2.18MB/s]\n"
          ]
        }
      ],
      "source": [
        "driver = webdriver.Chrome(service=Service(ChromeDriverManager(path=\"./Chromedrivers/\").install()),options=options)"
      ]
    },
    {
      "cell_type": "code",
      "execution_count": null,
      "id": "82c31512-4601-4965-8697-9138136dc9da",
      "metadata": {
        "tags": [],
        "id": "82c31512-4601-4965-8697-9138136dc9da"
      },
      "outputs": [],
      "source": [
        "l=\"https://www.imdb.com/title/tt1745960/reviews?ref_=tt_urv\"\n",
        "driver.get(l)"
      ]
    },
    {
      "cell_type": "code",
      "execution_count": null,
      "id": "ad5c3ccb-618f-4cd7-b09d-3798a0760d8f",
      "metadata": {
        "tags": [],
        "id": "ad5c3ccb-618f-4cd7-b09d-3798a0760d8f"
      },
      "outputs": [],
      "source": [
        "while True:\n",
        "  try:\n",
        "    driver.find_element(\"id\",\"load-more-trigger\").click()\n",
        "    time.sleep(2)\n",
        "  except:\n",
        "    break"
      ]
    },
    {
      "cell_type": "code",
      "execution_count": null,
      "id": "25a096a3-d04e-4400-8292-8ea7f2d8a01d",
      "metadata": {
        "tags": [],
        "id": "25a096a3-d04e-4400-8292-8ea7f2d8a01d"
      },
      "outputs": [],
      "source": [
        "df = pd.DataFrame(columns=[\"Author\",\"Title\",\"Rating\",\"Text\",\"Date\"])\n",
        "\n"
      ]
    },
    {
      "cell_type": "code",
      "execution_count": null,
      "id": "c2dcd35b-c543-4f78-936a-640ba698c48d",
      "metadata": {
        "id": "c2dcd35b-c543-4f78-936a-640ba698c48d"
      },
      "outputs": [],
      "source": [
        "from bs4 import BeautifulSoup"
      ]
    },
    {
      "cell_type": "code",
      "execution_count": null,
      "id": "58ce9787-9d20-4c1e-9c13-21daecb313ef",
      "metadata": {
        "tags": [],
        "id": "58ce9787-9d20-4c1e-9c13-21daecb313ef"
      },
      "outputs": [],
      "source": [
        "content = driver.page_source\n",
        "soup = BeautifulSoup(content)"
      ]
    },
    {
      "cell_type": "code",
      "execution_count": null,
      "id": "61fb3148-cd31-4846-b713-583831167197",
      "metadata": {
        "tags": [],
        "id": "61fb3148-cd31-4846-b713-583831167197"
      },
      "outputs": [],
      "source": [
        "\n",
        "result=[]"
      ]
    },
    {
      "cell_type": "code",
      "execution_count": null,
      "id": "b81fb45a-4a21-4fcf-96b1-05c5578405e8",
      "metadata": {
        "tags": [],
        "id": "b81fb45a-4a21-4fcf-96b1-05c5578405e8"
      },
      "outputs": [],
      "source": [
        "def GetAReview(review):\n",
        "  author = rev.findAll('span', attrs={'class':'display-name-link'})[0].text\n",
        "  title = rev.find('a', href=True, attrs={'class':'title'}).text.strip()\n",
        "  rating =rev.findAll('span', attrs={'class':'rating-other-user-rating'})[0].text.replace(\"\\n\",\"\").strip()\n",
        "  review = rev.findAll('div', attrs={'class':'text show-more__control'})[0].text\n",
        "  date = rev.findAll('span', attrs={'class':'review-date'})[0].text\n",
        "\n",
        "  return pd.DataFrame({\"Author\":author, \"Title\":title, \"Rating\":rating, \"Text\":review, \"Date\":date},index=[0])"
      ]
    },
    {
      "cell_type": "code",
      "execution_count": null,
      "id": "142755a5-bca9-4cc2-a89e-b5ea44cdbb8c",
      "metadata": {
        "id": "142755a5-bca9-4cc2-a89e-b5ea44cdbb8c"
      },
      "outputs": [],
      "source": []
    },
    {
      "cell_type": "code",
      "execution_count": null,
      "id": "bffaf76b-7795-4a68-880f-d460e00a734f",
      "metadata": {
        "tags": [],
        "id": "bffaf76b-7795-4a68-880f-d460e00a734f"
      },
      "outputs": [],
      "source": [
        "for rev in soup.findAll('div', attrs={'class':'review-container'}):\n",
        "  try:\n",
        "    result.append(GetAReview(rev))\n",
        "  except:\n",
        "    continue"
      ]
    },
    {
      "cell_type": "code",
      "execution_count": null,
      "id": "fb8d7f3c-817a-44d4-b88c-505292710070",
      "metadata": {
        "tags": [],
        "id": "fb8d7f3c-817a-44d4-b88c-505292710070"
      },
      "outputs": [],
      "source": [
        "df=pd.concat(result, axis=0, ignore_index=True)"
      ]
    },
    {
      "cell_type": "code",
      "execution_count": null,
      "id": "005e2d02-8a65-4f54-9581-03b95d7e8ad8",
      "metadata": {
        "tags": [],
        "id": "005e2d02-8a65-4f54-9581-03b95d7e8ad8",
        "outputId": "16354cb1-d67a-42f2-de07-8a6f63babd83"
      },
      "outputs": [
        {
          "data": {
            "text/html": [
              "<div>\n",
              "<style scoped>\n",
              "    .dataframe tbody tr th:only-of-type {\n",
              "        vertical-align: middle;\n",
              "    }\n",
              "\n",
              "    .dataframe tbody tr th {\n",
              "        vertical-align: top;\n",
              "    }\n",
              "\n",
              "    .dataframe thead th {\n",
              "        text-align: right;\n",
              "    }\n",
              "</style>\n",
              "<table border=\"1\" class=\"dataframe\">\n",
              "  <thead>\n",
              "    <tr style=\"text-align: right;\">\n",
              "      <th></th>\n",
              "      <th>Author</th>\n",
              "      <th>Title</th>\n",
              "      <th>Rating</th>\n",
              "      <th>Text</th>\n",
              "      <th>Date</th>\n",
              "    </tr>\n",
              "  </thead>\n",
              "  <tbody>\n",
              "    <tr>\n",
              "      <th>0</th>\n",
              "      <td>Top_Dawg_Critic</td>\n",
              "      <td>The truly epic blockbuster we needed.</td>\n",
              "      <td>10/10</td>\n",
              "      <td>Wow. The first Top Gun is a classic, and as we...</td>\n",
              "      <td>23 May 2022</td>\n",
              "    </tr>\n",
              "    <tr>\n",
              "      <th>1</th>\n",
              "      <td>scottedwards-87359</td>\n",
              "      <td>This is slightly different to the other review...</td>\n",
              "      <td>10/10</td>\n",
              "      <td>If you were a late teen or in your early twent...</td>\n",
              "      <td>26 May 2022</td>\n",
              "    </tr>\n",
              "    <tr>\n",
              "      <th>2</th>\n",
              "      <td>dtucker86</td>\n",
              "      <td>This is why we go to the movies</td>\n",
              "      <td>10/10</td>\n",
              "      <td>This is one sequel that looked like it would n...</td>\n",
              "      <td>27 May 2022</td>\n",
              "    </tr>\n",
              "    <tr>\n",
              "      <th>3</th>\n",
              "      <td>lovefalloutkindagamer</td>\n",
              "      <td>Let me just say...</td>\n",
              "      <td>10/10</td>\n",
              "      <td>I was reluctantly dragged into the theater, th...</td>\n",
              "      <td>26 May 2022</td>\n",
              "    </tr>\n",
              "    <tr>\n",
              "      <th>4</th>\n",
              "      <td>alexglimbergwindh</td>\n",
              "      <td>The real cinema experience!</td>\n",
              "      <td>10/10</td>\n",
              "      <td>If there's any movie that deserves to be seen ...</td>\n",
              "      <td>30 May 2022</td>\n",
              "    </tr>\n",
              "  </tbody>\n",
              "</table>\n",
              "</div>"
            ],
            "text/plain": [
              "                  Author                                              Title  \\\n",
              "0        Top_Dawg_Critic              The truly epic blockbuster we needed.   \n",
              "1     scottedwards-87359  This is slightly different to the other review...   \n",
              "2              dtucker86                    This is why we go to the movies   \n",
              "3  lovefalloutkindagamer                                 Let me just say...   \n",
              "4      alexglimbergwindh                        The real cinema experience!   \n",
              "\n",
              "  Rating                                               Text         Date  \n",
              "0  10/10  Wow. The first Top Gun is a classic, and as we...  23 May 2022  \n",
              "1  10/10  If you were a late teen or in your early twent...  26 May 2022  \n",
              "2  10/10  This is one sequel that looked like it would n...  27 May 2022  \n",
              "3  10/10  I was reluctantly dragged into the theater, th...  26 May 2022  \n",
              "4  10/10  If there's any movie that deserves to be seen ...  30 May 2022  "
            ]
          },
          "execution_count": 13,
          "metadata": {},
          "output_type": "execute_result"
        }
      ],
      "source": [
        "df.head()"
      ]
    },
    {
      "cell_type": "code",
      "execution_count": null,
      "id": "e268efef-516d-4441-8870-9316fa3c2880",
      "metadata": {
        "tags": [],
        "id": "e268efef-516d-4441-8870-9316fa3c2880"
      },
      "outputs": [],
      "source": [
        "df.to_csv(\"Mavericks.csv\")"
      ]
    },
    {
      "cell_type": "code",
      "execution_count": null,
      "id": "df0e43ba-b85a-4fcc-9a0e-d81eb52c91a5",
      "metadata": {
        "id": "df0e43ba-b85a-4fcc-9a0e-d81eb52c91a5"
      },
      "outputs": [],
      "source": []
    }
  ],
  "metadata": {
    "kernelspec": {
      "display_name": "Python 3 (ipykernel)",
      "language": "python",
      "name": "python3"
    },
    "language_info": {
      "codemirror_mode": {
        "name": "ipython",
        "version": 3
      },
      "file_extension": ".py",
      "mimetype": "text/x-python",
      "name": "python",
      "nbconvert_exporter": "python",
      "pygments_lexer": "ipython3",
      "version": "3.10.8"
    },
    "colab": {
      "provenance": [],
      "include_colab_link": true
    }
  },
  "nbformat": 4,
  "nbformat_minor": 5
}