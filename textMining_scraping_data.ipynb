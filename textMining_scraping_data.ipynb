{
  "cells": [
    {
      "cell_type": "markdown",
      "metadata": {
        "id": "view-in-github",
        "colab_type": "text"
      },
      "source": [
        "<a href=\"https://colab.research.google.com/github/urosgodnov/BigData/blob/master/textMining_scraping_data.ipynb\" target=\"_parent\"><img src=\"https://colab.research.google.com/assets/colab-badge.svg\" alt=\"Open In Colab\"/></a>"
      ]
    },
    {
      "cell_type": "markdown",
      "source": [
        "# Permanently install libraries"
      ],
      "metadata": {
        "id": "D6XABwhDvHvQ"
      },
      "id": "D6XABwhDvHvQ"
    },
    {
      "cell_type": "markdown",
      "source": [
        "## Initializing gdrive"
      ],
      "metadata": {
        "id": "4eai3eHGvQq9"
      },
      "id": "4eai3eHGvQq9"
    },
    {
      "cell_type": "code",
      "source": [
        "# permanently install packageg in google colab\n",
        "from google.colab import drive\n",
        "drive.mount(\"/content/drive\")"
      ],
      "metadata": {
        "colab": {
          "base_uri": "https://localhost:8080/"
        },
        "id": "FDnUAoJ1syHI",
        "outputId": "92269696-2fe0-4eef-f433-d133d0324925"
      },
      "id": "FDnUAoJ1syHI",
      "execution_count": 1,
      "outputs": [
        {
          "output_type": "stream",
          "name": "stdout",
          "text": [
            "Drive already mounted at /content/drive; to attempt to forcibly remount, call drive.mount(\"/content/drive\", force_remount=True).\n"
          ]
        }
      ]
    },
    {
      "cell_type": "markdown",
      "source": [
        "## Creating links"
      ],
      "metadata": {
        "id": "Wo1c011Yvbdw"
      },
      "id": "Wo1c011Yvbdw"
    },
    {
      "cell_type": "code",
      "source": [
        "import os\n",
        "nb_path = '/content/drive/MyDrive/Google_Colab_modules'\n",
        "\n",
        "if not os.path.exists(nb_path):\n",
        "  os.symlink('/content/drive/MyDrive/Google_Colab_modules', nb_path)  # Create the symlink only if it doesn't exist\n",
        "else:\n",
        "  print(f\"Path '{nb_path}' already exists. Skipping symlink creation.\")\n"
      ],
      "metadata": {
        "colab": {
          "base_uri": "https://localhost:8080/"
        },
        "id": "CbhIct5IuPfZ",
        "outputId": "83af5d29-cc76-43ff-8537-6a9b1aeae520"
      },
      "id": "CbhIct5IuPfZ",
      "execution_count": 5,
      "outputs": [
        {
          "output_type": "stream",
          "name": "stdout",
          "text": [
            "Path '/content/drive/MyDrive/Google_Colab_modules' already exists. Skipping symlink creation.\n"
          ]
        }
      ]
    },
    {
      "cell_type": "markdown",
      "source": [
        "## Installing to destination folder in gdrive"
      ],
      "metadata": {
        "id": "r7mo4dCFvfBZ"
      },
      "id": "r7mo4dCFvfBZ"
    },
    {
      "cell_type": "code",
      "source": [
        "#install the module in the\n",
        "!pip install --target=$nb_path selenium"
      ],
      "metadata": {
        "id": "ULxTpXSVvASS"
      },
      "id": "ULxTpXSVvASS",
      "execution_count": null,
      "outputs": []
    },
    {
      "cell_type": "code",
      "source": [
        "!pip install --target=$nb_path webdriver_manager"
      ],
      "metadata": {
        "colab": {
          "base_uri": "https://localhost:8080/"
        },
        "id": "3yipFmyoy9Bh",
        "outputId": "b3b250a1-de2f-4c6d-ad2c-f608023ed18b"
      },
      "id": "3yipFmyoy9Bh",
      "execution_count": 24,
      "outputs": [
        {
          "output_type": "stream",
          "name": "stdout",
          "text": [
            "Collecting webdriver_manager\n",
            "  Downloading webdriver_manager-4.0.2-py2.py3-none-any.whl.metadata (12 kB)\n",
            "Requirement already satisfied: requests in /usr/local/lib/python3.10/dist-packages (from webdriver_manager) (2.32.3)\n",
            "Collecting python-dotenv (from webdriver_manager)\n",
            "  Downloading python_dotenv-1.0.1-py3-none-any.whl.metadata (23 kB)\n",
            "Requirement already satisfied: packaging in /usr/local/lib/python3.10/dist-packages (from webdriver_manager) (24.2)\n",
            "Requirement already satisfied: charset-normalizer<4,>=2 in /usr/local/lib/python3.10/dist-packages (from requests->webdriver_manager) (3.4.0)\n",
            "Requirement already satisfied: idna<4,>=2.5 in /usr/local/lib/python3.10/dist-packages (from requests->webdriver_manager) (3.10)\n",
            "Requirement already satisfied: urllib3<3,>=1.21.1 in /usr/local/lib/python3.10/dist-packages (from requests->webdriver_manager) (2.2.3)\n",
            "Requirement already satisfied: certifi>=2017.4.17 in /usr/local/lib/python3.10/dist-packages (from requests->webdriver_manager) (2024.8.30)\n",
            "Downloading webdriver_manager-4.0.2-py2.py3-none-any.whl (27 kB)\n",
            "Downloading python_dotenv-1.0.1-py3-none-any.whl (19 kB)\n",
            "Installing collected packages: python-dotenv, webdriver_manager\n",
            "Successfully installed python-dotenv-1.0.1 webdriver_manager-4.0.2\n"
          ]
        }
      ]
    },
    {
      "cell_type": "markdown",
      "source": [
        "## Connecting the path"
      ],
      "metadata": {
        "id": "6AJokRDsvrNZ"
      },
      "id": "6AJokRDsvrNZ"
    },
    {
      "cell_type": "markdown",
      "source": [
        "In the future, while all modules will be installed, we will only use this command."
      ],
      "metadata": {
        "id": "LzuIZs24vwxo"
      },
      "id": "LzuIZs24vwxo"
    },
    {
      "cell_type": "code",
      "source": [
        "import sys\n",
        "\n",
        "sys.path.append(\"/content/drive/MyDrive/Google_Colab_modules\")"
      ],
      "metadata": {
        "id": "YY7iYvEYtTE6"
      },
      "id": "YY7iYvEYtTE6",
      "execution_count": 25,
      "outputs": []
    },
    {
      "cell_type": "markdown",
      "source": [
        "# Webscraping"
      ],
      "metadata": {
        "id": "kWcmVdmHv6C9"
      },
      "id": "kWcmVdmHv6C9"
    },
    {
      "cell_type": "code",
      "execution_count": 26,
      "id": "09a6b4f9-7b96-431f-88c3-44b8371b79d0",
      "metadata": {
        "tags": [],
        "id": "09a6b4f9-7b96-431f-88c3-44b8371b79d0"
      },
      "outputs": [],
      "source": [
        "from selenium import webdriver\n",
        "from selenium.webdriver.chrome.options import Options\n",
        "from webdriver_manager.chrome import ChromeDriverManager\n",
        "from selenium.webdriver.common.by import By\n",
        "from selenium.webdriver.support.wait import WebDriverWait\n",
        "from selenium.webdriver.chrome.service import Service\n",
        "from selenium.webdriver.support import expected_conditions as EC\n",
        "from selenium.common.exceptions import (\n",
        "    NoSuchElementException,\n",
        "    ElementClickInterceptedException,\n",
        "    TimeoutException\n",
        ")\n",
        "from datetime import datetime\n",
        "\n"
      ]
    },
    {
      "cell_type": "code",
      "source": [
        "import pandas as pd\n",
        "import time"
      ],
      "metadata": {
        "id": "WJ1u2hOTKTG1"
      },
      "id": "WJ1u2hOTKTG1",
      "execution_count": null,
      "outputs": []
    },
    {
      "cell_type": "code",
      "execution_count": 44,
      "id": "d6e95cc9-4ecb-48af-9021-4ec8aae28cef",
      "metadata": {
        "tags": [],
        "id": "d6e95cc9-4ecb-48af-9021-4ec8aae28cef"
      },
      "outputs": [],
      "source": [
        "options = webdriver.ChromeOptions()\n",
        "options.add_argument(\"--verbose\")\n",
        "options.add_argument('--no-sandbox')\n",
        "#options.add_argument('--headless')\n",
        "options.add_argument('--disable-gpu')\n",
        "options.add_argument(\"--window-size=1920, 1200\")\n",
        "options.add_argument('--disable-dev-shm-usage')\n",
        "\n",
        "driver = webdriver.Chrome(service=Service(),options=options)"
      ]
    },
    {
      "cell_type": "code",
      "source": [
        "from selenium.webdriver.chrome.options import Options\n",
        "import google_colab_selenium as gs\n",
        "\n",
        "custom_options = Options()\n",
        "\n",
        "\n",
        "driver = gs.Chrome(options=custom_options)"
      ],
      "metadata": {
        "colab": {
          "base_uri": "https://localhost:8080/",
          "height": 37
        },
        "id": "B2cD1nDRwdPR",
        "outputId": "3648f640-eb9e-4c9f-f450-37b10e09f9d7"
      },
      "id": "B2cD1nDRwdPR",
      "execution_count": 30,
      "outputs": [
        {
          "output_type": "display_data",
          "data": {
            "text/plain": [
              "<IPython.core.display.HTML object>"
            ],
            "text/html": [
              "\n",
              "            <div class=\"spinner-container\">\n",
              "                <div class=\"spinner\" id=\"86ed712f-53a7-4c43-a328-545d37590716-circle\"></div>\n",
              "                <div class=\"spinner-text\" id=\"86ed712f-53a7-4c43-a328-545d37590716-text\">Initializing Chromedriver</div>\n",
              "            </div>\n",
              "            <style>\n",
              "                @keyframes spin {\n",
              "                    from { transform: rotate(0deg); }\n",
              "                    to { transform: rotate(360deg); }\n",
              "                }\n",
              "\n",
              "                .spinner-container {\n",
              "                    display: flex;\n",
              "                    align-items: center;\n",
              "                    margin-bottom: 3px;\n",
              "                }\n",
              "\n",
              "                .spinner {\n",
              "                    border: 3px solid rgba(0, 0, 0, 0.1);\n",
              "                    border-left-color: lightblue;\n",
              "                    border-radius: 50%;\n",
              "                    width: 12px;\n",
              "                    height: 12px;\n",
              "                    animation: spin 1s linear infinite;\n",
              "                }\n",
              "\n",
              "                .spinner-text {\n",
              "                    padding-left: 6px;\n",
              "                }\n",
              "            </style>\n",
              "        "
            ]
          },
          "metadata": {}
        },
        {
          "output_type": "display_data",
          "data": {
            "text/plain": [
              "<IPython.core.display.Javascript object>"
            ],
            "application/javascript": [
              "\n",
              "            const element = document.getElementById(\"86ed712f-53a7-4c43-a328-545d37590716-circle\");\n",
              "            element.style.border = \"3px solid limegreen\";\n",
              "            element.style.animation = \"none\";\n",
              "\n",
              "            const text = document.getElementById(\"86ed712f-53a7-4c43-a328-545d37590716-text\");\n",
              "            text.innerText = \"Initialized Chromedriver\";\n",
              "        "
            ]
          },
          "metadata": {}
        }
      ]
    },
    {
      "cell_type": "code",
      "execution_count": 49,
      "id": "82c31512-4601-4965-8697-9138136dc9da",
      "metadata": {
        "tags": [],
        "id": "82c31512-4601-4965-8697-9138136dc9da"
      },
      "outputs": [],
      "source": [
        "l=\"https://www.imdb.com/title/tt1745960/reviews?ref_=tt_urv\"\n",
        "driver.get(l)"
      ]
    },
    {
      "cell_type": "code",
      "execution_count": 47,
      "id": "ad5c3ccb-618f-4cd7-b09d-3798a0760d8f",
      "metadata": {
        "tags": [],
        "id": "ad5c3ccb-618f-4cd7-b09d-3798a0760d8f"
      },
      "outputs": [],
      "source": [
        "while True:\n",
        "  try:\n",
        "    driver.find_element(\"id\",\"load-more-trigger\").click()\n",
        "    time.sleep(2)\n",
        "  except:\n",
        "    break"
      ]
    },
    {
      "cell_type": "code",
      "execution_count": 36,
      "id": "25a096a3-d04e-4400-8292-8ea7f2d8a01d",
      "metadata": {
        "tags": [],
        "id": "25a096a3-d04e-4400-8292-8ea7f2d8a01d"
      },
      "outputs": [],
      "source": [
        "df = pd.DataFrame(columns=[\"Author\",\"Title\",\"Rating\",\"Text\",\"Date\"])\n",
        "\n"
      ]
    },
    {
      "cell_type": "code",
      "execution_count": 37,
      "id": "c2dcd35b-c543-4f78-936a-640ba698c48d",
      "metadata": {
        "id": "c2dcd35b-c543-4f78-936a-640ba698c48d"
      },
      "outputs": [],
      "source": [
        "from bs4 import BeautifulSoup"
      ]
    },
    {
      "cell_type": "code",
      "execution_count": 38,
      "id": "58ce9787-9d20-4c1e-9c13-21daecb313ef",
      "metadata": {
        "tags": [],
        "id": "58ce9787-9d20-4c1e-9c13-21daecb313ef"
      },
      "outputs": [],
      "source": [
        "content = driver.page_source\n",
        "soup = BeautifulSoup(content)"
      ]
    },
    {
      "cell_type": "code",
      "execution_count": 39,
      "id": "61fb3148-cd31-4846-b713-583831167197",
      "metadata": {
        "tags": [],
        "id": "61fb3148-cd31-4846-b713-583831167197"
      },
      "outputs": [],
      "source": [
        "\n",
        "result=[]"
      ]
    },
    {
      "cell_type": "code",
      "execution_count": 50,
      "id": "b81fb45a-4a21-4fcf-96b1-05c5578405e8",
      "metadata": {
        "tags": [],
        "id": "b81fb45a-4a21-4fcf-96b1-05c5578405e8"
      },
      "outputs": [],
      "source": [
        "def GetAReview(review):\n",
        "  author = rev.findAll('a', attrs={'class':'ipc-link ipc-link--base'})[0].text\n",
        "  title = rev.find('h3', attrs={'class':'ipc-title__text'}).text.strip()\n",
        "  rating =rev.findAll('span', attrs={'class':'ipc-rating-star--rating'})[0].text.replace(\"\\n\",\"\").strip()\n",
        "  review = rev.findAll('div', attrs={'class':'ipc-html-content-inner-div'})[0].text\n",
        "  date = rev.findAll('li', attrs={'class':'ipc-inline-list__item review-date'})[0].text\n",
        "  date=datetime.strptime(date, '%b %d, %Y').strftime('%Y-%m-%d')\n",
        "\n",
        "  return pd.DataFrame({\"Author\":author, \"Title\":title, \"Rating\":rating, \"Text\":review, \"Date\":date},index=[0])\n"
      ]
    },
    {
      "cell_type": "code",
      "execution_count": 41,
      "id": "bffaf76b-7795-4a68-880f-d460e00a734f",
      "metadata": {
        "tags": [],
        "id": "bffaf76b-7795-4a68-880f-d460e00a734f"
      },
      "outputs": [],
      "source": [
        "for rev in soup.findAll('article'):\n",
        "  try:\n",
        "    result.append(GetAReview(rev))\n",
        "  except:\n",
        "    continue"
      ]
    },
    {
      "cell_type": "code",
      "execution_count": 42,
      "id": "fb8d7f3c-817a-44d4-b88c-505292710070",
      "metadata": {
        "tags": [],
        "id": "fb8d7f3c-817a-44d4-b88c-505292710070",
        "colab": {
          "base_uri": "https://localhost:8080/",
          "height": 316
        },
        "outputId": "53cbe55d-cb6f-4e39-d43f-6f5afcb64894"
      },
      "outputs": [
        {
          "output_type": "error",
          "ename": "ValueError",
          "evalue": "No objects to concatenate",
          "traceback": [
            "\u001b[0;31m---------------------------------------------------------------------------\u001b[0m",
            "\u001b[0;31mValueError\u001b[0m                                Traceback (most recent call last)",
            "\u001b[0;32m<ipython-input-42-22002da8f487>\u001b[0m in \u001b[0;36m<cell line: 1>\u001b[0;34m()\u001b[0m\n\u001b[0;32m----> 1\u001b[0;31m \u001b[0mdf\u001b[0m\u001b[0;34m=\u001b[0m\u001b[0mpd\u001b[0m\u001b[0;34m.\u001b[0m\u001b[0mconcat\u001b[0m\u001b[0;34m(\u001b[0m\u001b[0mresult\u001b[0m\u001b[0;34m,\u001b[0m \u001b[0maxis\u001b[0m\u001b[0;34m=\u001b[0m\u001b[0;36m0\u001b[0m\u001b[0;34m,\u001b[0m \u001b[0mignore_index\u001b[0m\u001b[0;34m=\u001b[0m\u001b[0;32mTrue\u001b[0m\u001b[0;34m)\u001b[0m\u001b[0;34m\u001b[0m\u001b[0;34m\u001b[0m\u001b[0m\n\u001b[0m",
            "\u001b[0;32m/usr/local/lib/python3.10/dist-packages/pandas/core/reshape/concat.py\u001b[0m in \u001b[0;36mconcat\u001b[0;34m(objs, axis, join, ignore_index, keys, levels, names, verify_integrity, sort, copy)\u001b[0m\n\u001b[1;32m    380\u001b[0m         \u001b[0mcopy\u001b[0m \u001b[0;34m=\u001b[0m \u001b[0;32mFalse\u001b[0m\u001b[0;34m\u001b[0m\u001b[0;34m\u001b[0m\u001b[0m\n\u001b[1;32m    381\u001b[0m \u001b[0;34m\u001b[0m\u001b[0m\n\u001b[0;32m--> 382\u001b[0;31m     op = _Concatenator(\n\u001b[0m\u001b[1;32m    383\u001b[0m         \u001b[0mobjs\u001b[0m\u001b[0;34m,\u001b[0m\u001b[0;34m\u001b[0m\u001b[0;34m\u001b[0m\u001b[0m\n\u001b[1;32m    384\u001b[0m         \u001b[0maxis\u001b[0m\u001b[0;34m=\u001b[0m\u001b[0maxis\u001b[0m\u001b[0;34m,\u001b[0m\u001b[0;34m\u001b[0m\u001b[0;34m\u001b[0m\u001b[0m\n",
            "\u001b[0;32m/usr/local/lib/python3.10/dist-packages/pandas/core/reshape/concat.py\u001b[0m in \u001b[0;36m__init__\u001b[0;34m(self, objs, axis, join, keys, levels, names, ignore_index, verify_integrity, copy, sort)\u001b[0m\n\u001b[1;32m    443\u001b[0m         \u001b[0mself\u001b[0m\u001b[0;34m.\u001b[0m\u001b[0mcopy\u001b[0m \u001b[0;34m=\u001b[0m \u001b[0mcopy\u001b[0m\u001b[0;34m\u001b[0m\u001b[0;34m\u001b[0m\u001b[0m\n\u001b[1;32m    444\u001b[0m \u001b[0;34m\u001b[0m\u001b[0m\n\u001b[0;32m--> 445\u001b[0;31m         \u001b[0mobjs\u001b[0m\u001b[0;34m,\u001b[0m \u001b[0mkeys\u001b[0m \u001b[0;34m=\u001b[0m \u001b[0mself\u001b[0m\u001b[0;34m.\u001b[0m\u001b[0m_clean_keys_and_objs\u001b[0m\u001b[0;34m(\u001b[0m\u001b[0mobjs\u001b[0m\u001b[0;34m,\u001b[0m \u001b[0mkeys\u001b[0m\u001b[0;34m)\u001b[0m\u001b[0;34m\u001b[0m\u001b[0;34m\u001b[0m\u001b[0m\n\u001b[0m\u001b[1;32m    446\u001b[0m \u001b[0;34m\u001b[0m\u001b[0m\n\u001b[1;32m    447\u001b[0m         \u001b[0;31m# figure out what our result ndim is going to be\u001b[0m\u001b[0;34m\u001b[0m\u001b[0;34m\u001b[0m\u001b[0m\n",
            "\u001b[0;32m/usr/local/lib/python3.10/dist-packages/pandas/core/reshape/concat.py\u001b[0m in \u001b[0;36m_clean_keys_and_objs\u001b[0;34m(self, objs, keys)\u001b[0m\n\u001b[1;32m    505\u001b[0m \u001b[0;34m\u001b[0m\u001b[0m\n\u001b[1;32m    506\u001b[0m         \u001b[0;32mif\u001b[0m \u001b[0mlen\u001b[0m\u001b[0;34m(\u001b[0m\u001b[0mobjs_list\u001b[0m\u001b[0;34m)\u001b[0m \u001b[0;34m==\u001b[0m \u001b[0;36m0\u001b[0m\u001b[0;34m:\u001b[0m\u001b[0;34m\u001b[0m\u001b[0;34m\u001b[0m\u001b[0m\n\u001b[0;32m--> 507\u001b[0;31m             \u001b[0;32mraise\u001b[0m \u001b[0mValueError\u001b[0m\u001b[0;34m(\u001b[0m\u001b[0;34m\"No objects to concatenate\"\u001b[0m\u001b[0;34m)\u001b[0m\u001b[0;34m\u001b[0m\u001b[0;34m\u001b[0m\u001b[0m\n\u001b[0m\u001b[1;32m    508\u001b[0m \u001b[0;34m\u001b[0m\u001b[0m\n\u001b[1;32m    509\u001b[0m         \u001b[0;32mif\u001b[0m \u001b[0mkeys\u001b[0m \u001b[0;32mis\u001b[0m \u001b[0;32mNone\u001b[0m\u001b[0;34m:\u001b[0m\u001b[0;34m\u001b[0m\u001b[0;34m\u001b[0m\u001b[0m\n",
            "\u001b[0;31mValueError\u001b[0m: No objects to concatenate"
          ]
        }
      ],
      "source": [
        "df=pd.concat(result, axis=0, ignore_index=True)"
      ]
    },
    {
      "cell_type": "code",
      "execution_count": 43,
      "id": "005e2d02-8a65-4f54-9581-03b95d7e8ad8",
      "metadata": {
        "tags": [],
        "id": "005e2d02-8a65-4f54-9581-03b95d7e8ad8",
        "outputId": "742e964a-7855-4041-ce84-f916bf680702",
        "colab": {
          "base_uri": "https://localhost:8080/",
          "height": 53
        }
      },
      "outputs": [
        {
          "output_type": "execute_result",
          "data": {
            "text/plain": [
              "Empty DataFrame\n",
              "Columns: [Author, Title, Rating, Text, Date]\n",
              "Index: []"
            ],
            "text/html": [
              "\n",
              "  <div id=\"df-d993085d-a8b7-4bf5-962e-db190c72f316\" class=\"colab-df-container\">\n",
              "    <div>\n",
              "<style scoped>\n",
              "    .dataframe tbody tr th:only-of-type {\n",
              "        vertical-align: middle;\n",
              "    }\n",
              "\n",
              "    .dataframe tbody tr th {\n",
              "        vertical-align: top;\n",
              "    }\n",
              "\n",
              "    .dataframe thead th {\n",
              "        text-align: right;\n",
              "    }\n",
              "</style>\n",
              "<table border=\"1\" class=\"dataframe\">\n",
              "  <thead>\n",
              "    <tr style=\"text-align: right;\">\n",
              "      <th></th>\n",
              "      <th>Author</th>\n",
              "      <th>Title</th>\n",
              "      <th>Rating</th>\n",
              "      <th>Text</th>\n",
              "      <th>Date</th>\n",
              "    </tr>\n",
              "  </thead>\n",
              "  <tbody>\n",
              "  </tbody>\n",
              "</table>\n",
              "</div>\n",
              "    <div class=\"colab-df-buttons\">\n",
              "\n",
              "  <div class=\"colab-df-container\">\n",
              "    <button class=\"colab-df-convert\" onclick=\"convertToInteractive('df-d993085d-a8b7-4bf5-962e-db190c72f316')\"\n",
              "            title=\"Convert this dataframe to an interactive table.\"\n",
              "            style=\"display:none;\">\n",
              "\n",
              "  <svg xmlns=\"http://www.w3.org/2000/svg\" height=\"24px\" viewBox=\"0 -960 960 960\">\n",
              "    <path d=\"M120-120v-720h720v720H120Zm60-500h600v-160H180v160Zm220 220h160v-160H400v160Zm0 220h160v-160H400v160ZM180-400h160v-160H180v160Zm440 0h160v-160H620v160ZM180-180h160v-160H180v160Zm440 0h160v-160H620v160Z\"/>\n",
              "  </svg>\n",
              "    </button>\n",
              "\n",
              "  <style>\n",
              "    .colab-df-container {\n",
              "      display:flex;\n",
              "      gap: 12px;\n",
              "    }\n",
              "\n",
              "    .colab-df-convert {\n",
              "      background-color: #E8F0FE;\n",
              "      border: none;\n",
              "      border-radius: 50%;\n",
              "      cursor: pointer;\n",
              "      display: none;\n",
              "      fill: #1967D2;\n",
              "      height: 32px;\n",
              "      padding: 0 0 0 0;\n",
              "      width: 32px;\n",
              "    }\n",
              "\n",
              "    .colab-df-convert:hover {\n",
              "      background-color: #E2EBFA;\n",
              "      box-shadow: 0px 1px 2px rgba(60, 64, 67, 0.3), 0px 1px 3px 1px rgba(60, 64, 67, 0.15);\n",
              "      fill: #174EA6;\n",
              "    }\n",
              "\n",
              "    .colab-df-buttons div {\n",
              "      margin-bottom: 4px;\n",
              "    }\n",
              "\n",
              "    [theme=dark] .colab-df-convert {\n",
              "      background-color: #3B4455;\n",
              "      fill: #D2E3FC;\n",
              "    }\n",
              "\n",
              "    [theme=dark] .colab-df-convert:hover {\n",
              "      background-color: #434B5C;\n",
              "      box-shadow: 0px 1px 3px 1px rgba(0, 0, 0, 0.15);\n",
              "      filter: drop-shadow(0px 1px 2px rgba(0, 0, 0, 0.3));\n",
              "      fill: #FFFFFF;\n",
              "    }\n",
              "  </style>\n",
              "\n",
              "    <script>\n",
              "      const buttonEl =\n",
              "        document.querySelector('#df-d993085d-a8b7-4bf5-962e-db190c72f316 button.colab-df-convert');\n",
              "      buttonEl.style.display =\n",
              "        google.colab.kernel.accessAllowed ? 'block' : 'none';\n",
              "\n",
              "      async function convertToInteractive(key) {\n",
              "        const element = document.querySelector('#df-d993085d-a8b7-4bf5-962e-db190c72f316');\n",
              "        const dataTable =\n",
              "          await google.colab.kernel.invokeFunction('convertToInteractive',\n",
              "                                                    [key], {});\n",
              "        if (!dataTable) return;\n",
              "\n",
              "        const docLinkHtml = 'Like what you see? Visit the ' +\n",
              "          '<a target=\"_blank\" href=https://colab.research.google.com/notebooks/data_table.ipynb>data table notebook</a>'\n",
              "          + ' to learn more about interactive tables.';\n",
              "        element.innerHTML = '';\n",
              "        dataTable['output_type'] = 'display_data';\n",
              "        await google.colab.output.renderOutput(dataTable, element);\n",
              "        const docLink = document.createElement('div');\n",
              "        docLink.innerHTML = docLinkHtml;\n",
              "        element.appendChild(docLink);\n",
              "      }\n",
              "    </script>\n",
              "  </div>\n",
              "\n",
              "\n",
              "    </div>\n",
              "  </div>\n"
            ],
            "application/vnd.google.colaboratory.intrinsic+json": {
              "type": "dataframe",
              "variable_name": "df",
              "repr_error": "Out of range float values are not JSON compliant: nan"
            }
          },
          "metadata": {},
          "execution_count": 43
        }
      ],
      "source": [
        "df.head()"
      ]
    },
    {
      "cell_type": "code",
      "execution_count": null,
      "id": "e268efef-516d-4441-8870-9316fa3c2880",
      "metadata": {
        "tags": [],
        "id": "e268efef-516d-4441-8870-9316fa3c2880"
      },
      "outputs": [],
      "source": [
        "df.to_csv(\"Mavericks.csv\")"
      ]
    },
    {
      "cell_type": "code",
      "execution_count": null,
      "id": "df0e43ba-b85a-4fcc-9a0e-d81eb52c91a5",
      "metadata": {
        "id": "df0e43ba-b85a-4fcc-9a0e-d81eb52c91a5"
      },
      "outputs": [],
      "source": []
    }
  ],
  "metadata": {
    "kernelspec": {
      "display_name": "Python 3 (ipykernel)",
      "language": "python",
      "name": "python3"
    },
    "language_info": {
      "codemirror_mode": {
        "name": "ipython",
        "version": 3
      },
      "file_extension": ".py",
      "mimetype": "text/x-python",
      "name": "python",
      "nbconvert_exporter": "python",
      "pygments_lexer": "ipython3",
      "version": "3.10.8"
    },
    "colab": {
      "provenance": [],
      "include_colab_link": true
    }
  },
  "nbformat": 4,
  "nbformat_minor": 5
}